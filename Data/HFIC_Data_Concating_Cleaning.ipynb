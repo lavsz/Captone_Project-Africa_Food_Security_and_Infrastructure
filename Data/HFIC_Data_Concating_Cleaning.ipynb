{
 "cells": [
  {
   "cell_type": "code",
   "execution_count": 1,
   "metadata": {},
   "outputs": [],
   "source": [
    "import pandas as pd\n",
    "import numpy as np\n",
    "import geopandas as gpd\n",
    "from shapely.geometry import Polygon, mapping\n",
    "from shapely.ops import unary_union, cascaded_union\n",
    "from shapely import wkt\n",
    "from urllib.request import urlopen, HTTPError\n",
    "import glob\n",
    "from functools import reduce\n",
    "import requests\n",
    "from io import StringIO"
   ]
  },
  {
   "cell_type": "markdown",
   "metadata": {},
   "source": [
    "## Concating"
   ]
  },
  {
   "cell_type": "code",
   "execution_count": 2,
   "metadata": {},
   "outputs": [],
   "source": [
    "lists = glob.glob('Polygons/*.geojson')"
   ]
  },
  {
   "cell_type": "code",
   "execution_count": 3,
   "metadata": {},
   "outputs": [],
   "source": [
    "gdf1 = gpd.GeoDataFrame()\n",
    "a = gpd.read_file(lists[0])\n",
    "b = gpd.read_file('Polygons/subnational_201110_CS_ea.geojson')\n",
    "\n",
    "gdf1 = gdf1.append(a)\n",
    "gdf1 = gdf1.append(b)"
   ]
  },
  {
   "cell_type": "code",
   "execution_count": 4,
   "metadata": {},
   "outputs": [
    {
     "data": {
      "text/plain": [
       "1.0     242\n",
       "2.0     104\n",
       "3.0      60\n",
       "88.0     38\n",
       "4.0      28\n",
       "5.0      10\n",
       "99.0      6\n",
       "Name: CS, dtype: int64"
      ]
     },
     "execution_count": 4,
     "metadata": {},
     "output_type": "execute_result"
    }
   ],
   "source": [
    "gdf1.CS.value_counts()"
   ]
  },
  {
   "cell_type": "code",
   "execution_count": 8,
   "metadata": {},
   "outputs": [],
   "source": [
    "gdf_all = gpd.GeoDataFrame()\n",
    "for i in lists:\n",
    "    a = gpd.read_file(i)\n",
    "    gdf_all = gdf_all.append(a)"
   ]
  },
  {
   "cell_type": "code",
   "execution_count": 13,
   "metadata": {},
   "outputs": [
    {
     "name": "stdout",
     "output_type": "stream",
     "text": [
      "<class 'geopandas.geodataframe.GeoDataFrame'>\n",
      "Int64Index: 51766 entries, 0 to 373\n",
      "Data columns (total 11 columns):\n",
      " #   Column       Non-Null Count  Dtype   \n",
      "---  ------       --------------  -----   \n",
      " 0   ADM1_CODE    51766 non-null  int64   \n",
      " 1   ADM0_NAME    51766 non-null  object  \n",
      " 2   Start        51766 non-null  object  \n",
      " 3   End          51766 non-null  object  \n",
      " 4   index_right  24760 non-null  float64 \n",
      " 5   CS           24760 non-null  float64 \n",
      " 6   HA0          20096 non-null  float64 \n",
      " 7   HA           174 non-null    float64 \n",
      " 8   geometry     51766 non-null  geometry\n",
      " 9   CS201110_P   96 non-null     float64 \n",
      " 10  CS201010_P   154 non-null    float64 \n",
      "dtypes: float64(6), geometry(1), int64(1), object(3)\n",
      "memory usage: 4.7+ MB\n"
     ]
    }
   ],
   "source": [
    "gdf_all.info()"
   ]
  },
  {
   "cell_type": "markdown",
   "metadata": {},
   "source": [
    "## Cleaning"
   ]
  },
  {
   "cell_type": "code",
   "execution_count": 19,
   "metadata": {},
   "outputs": [],
   "source": [
    "gdf_new = gdf_all[['ADM1_CODE', 'ADM0_NAME', 'Start', 'End', 'CS', 'geometry']]"
   ]
  },
  {
   "cell_type": "code",
   "execution_count": 25,
   "metadata": {},
   "outputs": [
    {
     "data": {
      "text/plain": [
       "1.0     11440\n",
       "2.0      6678\n",
       "3.0      3130\n",
       "88.0     1672\n",
       "99.0     1282\n",
       "4.0       540\n",
       "5.0        18\n",
       "Name: CS, dtype: int64"
      ]
     },
     "execution_count": 25,
     "metadata": {},
     "output_type": "execute_result"
    }
   ],
   "source": [
    "gdf_a.CS.value_counts()"
   ]
  },
  {
   "cell_type": "code",
   "execution_count": 33,
   "metadata": {},
   "outputs": [],
   "source": [
    "gdf_a = gdf_new.dropna(subset=['CS']).reset_index(drop=True)\n",
    "gdf_b = gdf_a[gdf_a.CS.isin([1,2,3,4,5])]\n",
    "gdf_c = gdf_b.sort_values(by=['ADM1_CODE', 'Start', 'End', 'CS'], ascending = False)\n",
    "gdf_d = gdf_c.drop_duplicates(subset=['ADM1_CODE', 'Start', 'End'], keep = 'first').reset_index(drop=False)"
   ]
  },
  {
   "cell_type": "code",
   "execution_count": 35,
   "metadata": {},
   "outputs": [
    {
     "data": {
      "text/plain": [
       "1.0    3068\n",
       "2.0    1498\n",
       "3.0    1096\n",
       "4.0     259\n",
       "5.0       9\n",
       "Name: CS, dtype: int64"
      ]
     },
     "execution_count": 35,
     "metadata": {},
     "output_type": "execute_result"
    }
   ],
   "source": [
    "gdf_d.CS.value_counts()"
   ]
  },
  {
   "cell_type": "code",
   "execution_count": 36,
   "metadata": {},
   "outputs": [],
   "source": [
    "gdf_d.to_file('HFIC_new.geojson', driver = 'GeoJSON')"
   ]
  },
  {
   "cell_type": "code",
   "execution_count": null,
   "metadata": {},
   "outputs": [],
   "source": []
  }
 ],
 "metadata": {
  "kernelspec": {
   "display_name": "Python 3",
   "language": "python",
   "name": "python3"
  },
  "language_info": {
   "codemirror_mode": {
    "name": "ipython",
    "version": 3
   },
   "file_extension": ".py",
   "mimetype": "text/x-python",
   "name": "python",
   "nbconvert_exporter": "python",
   "pygments_lexer": "ipython3",
   "version": "3.8.5"
  }
 },
 "nbformat": 4,
 "nbformat_minor": 4
}
