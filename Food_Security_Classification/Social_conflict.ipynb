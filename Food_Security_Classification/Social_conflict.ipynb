{
 "cells": [
  {
   "cell_type": "code",
   "execution_count": 1,
   "metadata": {
    "executionInfo": {
     "elapsed": 631,
     "status": "ok",
     "timestamp": 1615908358249,
     "user": {
      "displayName": "Shenghao (Lavender) Zhang",
      "photoUrl": "",
      "userId": "11112508187709723646"
     },
     "user_tz": 240
    },
    "id": "I_TqSqTfTS0m"
   },
   "outputs": [
    {
     "name": "stderr",
     "output_type": "stream",
     "text": [
      "UsageError: Line magic function `%` not found.\n"
     ]
    }
   ],
   "source": [
    "import numpy as np\n",
    "import pandas as pd\n",
    "import geopandas as gpd\n",
    "import sqlite3\n",
    "import dateutil\n",
    "import datetime as dt\n",
    "\n",
    "import re\n",
    "import string\n",
    "import nltk\n",
    "from nltk.corpus import stopwords\n",
    "from nltk.stem import WordNetLemmatizer \n",
    "\n",
    "\n",
    "from sklearn.feature_extraction.text import CountVectorizer\n",
    "from sklearn.feature_extraction.text import TfidfVectorizer\n",
    "\n",
    "from sklearn.ensemble import RandomForestClassifier\n",
    "import xgboost\n",
    "from xgboost import XGBClassifier\n",
    "from sklearn.neural_network import MLPClassifier\n",
    "\n",
    "from sklearn.model_selection import train_test_split\n",
    "from sklearn.metrics import accuracy_score\n",
    "from sklearn.metrics import accuracy_score, classification_report, confusion_matrix\n",
    "from sklearn.inspection import permutation_importance\n",
    "\n",
    "from sklearn.model_selection import GridSearchCV\n",
    "from sklearn.pipeline import Pipeline\n",
    "from imblearn.pipeline import Pipeline as imbPipeline\n",
    "\n",
    "\n",
    "import seaborn as sns\n",
    "import matplotlib.pyplot as plt\n",
    "% matplotlib inline"
   ]
  },
  {
   "cell_type": "code",
   "execution_count": 2,
   "metadata": {
    "collapsed": true,
    "executionInfo": {
     "elapsed": 27398,
     "status": "ok",
     "timestamp": 1615908386496,
     "user": {
      "displayName": "Shenghao (Lavender) Zhang",
      "photoUrl": "",
      "userId": "11112508187709723646"
     },
     "user_tz": 240
    },
    "id": "xIAzrPqmUyLp"
   },
   "outputs": [],
   "source": [
    "link18 = '2009-01-01-2020-12-31.csv'\n",
    "df = pd.read_csv(link18)"
   ]
  },
  {
   "cell_type": "code",
   "execution_count": 3,
   "metadata": {
    "collapsed": true,
    "executionInfo": {
     "elapsed": 26370,
     "status": "ok",
     "timestamp": 1615908386500,
     "user": {
      "displayName": "Shenghao (Lavender) Zhang",
      "photoUrl": "",
      "userId": "11112508187709723646"
     },
     "user_tz": 240
    },
    "id": "bQf1-CZC9mRL"
   },
   "outputs": [],
   "source": [
    "selected_countries = ['Malawi', 'Mozambique', 'Madagascar', 'Zimbabwe', 'Zambia',\n",
    "                      'Democratic Republic of the Congo',        \n",
    "        'Sudan', 'South Sudan', 'Ethiopia', 'Somalia', 'Kenya','Uganda',      \n",
    "                'Mali','Niger','Cameroon', 'Nigeria','Chad']"
   ]
  },
  {
   "cell_type": "code",
   "execution_count": 4,
   "metadata": {
    "collapsed": true,
    "executionInfo": {
     "elapsed": 25059,
     "status": "ok",
     "timestamp": 1615908387374,
     "user": {
      "displayName": "Shenghao (Lavender) Zhang",
      "photoUrl": "",
      "userId": "11112508187709723646"
     },
     "user_tz": 240
    },
    "id": "UmfWi2b0IxDp"
   },
   "outputs": [],
   "source": [
    "df_clean = df[['data_id', 'iso',  'event_date',\n",
    "       'year',  'event_type', 'sub_event_type', 'actor1',\n",
    "       'assoc_actor_1',  'actor2', 'assoc_actor_2', \n",
    "       'interaction',  'country', 'admin1', \n",
    "       'location', 'latitude', 'longitude', 'notes', 'fatalities', 'iso3']]"
   ]
  },
  {
   "cell_type": "code",
   "execution_count": 5,
   "metadata": {
    "collapsed": true,
    "executionInfo": {
     "elapsed": 24779,
     "status": "ok",
     "timestamp": 1615908387537,
     "user": {
      "displayName": "Shenghao (Lavender) Zhang",
      "photoUrl": "",
      "userId": "11112508187709723646"
     },
     "user_tz": 240
    },
    "id": "tNt2--wL-KU-"
   },
   "outputs": [],
   "source": [
    "df_africa = df_clean[df_clean.country.isin(selected_countries)]"
   ]
  },
  {
   "cell_type": "code",
   "execution_count": 6,
   "metadata": {
    "colab": {
     "base_uri": "https://localhost:8080/"
    },
    "executionInfo": {
     "elapsed": 78303,
     "status": "ok",
     "timestamp": 1615908441504,
     "user": {
      "displayName": "Shenghao (Lavender) Zhang",
      "photoUrl": "",
      "userId": "11112508187709723646"
     },
     "user_tz": 240
    },
    "id": "6e9dYXgz-SKL",
    "outputId": "e4f331da-5d2f-4dfb-a571-39b4034f5559"
   },
   "outputs": [
    {
     "data": {
      "text/plain": [
       "2020    14217\n",
       "2019    11184\n",
       "2018    10743\n",
       "2017     9983\n",
       "2016     9487\n",
       "2014     8482\n",
       "2015     8180\n",
       "2013     7363\n",
       "2012     5411\n",
       "2011     2881\n",
       "2010     2851\n",
       "2009     2113\n",
       "Name: year, dtype: int64"
      ]
     },
     "execution_count": 6,
     "metadata": {},
     "output_type": "execute_result"
    }
   ],
   "source": [
    "df_africa.year.value_counts()"
   ]
  },
  {
   "cell_type": "code",
   "execution_count": 7,
   "metadata": {
    "colab": {
     "base_uri": "https://localhost:8080/"
    },
    "executionInfo": {
     "elapsed": 147190,
     "status": "ok",
     "timestamp": 1615908510931,
     "user": {
      "displayName": "Shenghao (Lavender) Zhang",
      "photoUrl": "",
      "userId": "11112508187709723646"
     },
     "user_tz": 240
    },
    "id": "uLSEjv-C9KIx",
    "outputId": "2744a198-d991-4c87-e2d9-2510d10f58a9"
   },
   "outputs": [
    {
     "name": "stdout",
     "output_type": "stream",
     "text": [
      "<class 'geopandas.geodataframe.GeoDataFrame'>\n",
      "RangeIndex: 5930 entries, 0 to 5929\n",
      "Data columns (total 7 columns):\n",
      "index        5930 non-null int64\n",
      "ADM1_CODE    5930 non-null int64\n",
      "ADM0_NAME    5930 non-null object\n",
      "Start        5930 non-null object\n",
      "End          5930 non-null object\n",
      "CS           5930 non-null float64\n",
      "geometry     5930 non-null geometry\n",
      "dtypes: float64(1), geometry(1), int64(2), object(3)\n",
      "memory usage: 324.4+ KB\n"
     ]
    }
   ],
   "source": [
    "link = 'HFIC_new.geojson'\n",
    "data_regions = gpd.read_file(link)\n",
    "data_regions.info()"
   ]
  },
  {
   "cell_type": "code",
   "execution_count": 8,
   "metadata": {
    "collapsed": true,
    "executionInfo": {
     "elapsed": 148573,
     "status": "ok",
     "timestamp": 1615908512947,
     "user": {
      "displayName": "Shenghao (Lavender) Zhang",
      "photoUrl": "",
      "userId": "11112508187709723646"
     },
     "user_tz": 240
    },
    "id": "fBOVABUG_5q2"
   },
   "outputs": [],
   "source": [
    "admin1 = 'Admin_1/afr_g2014_2013_1.shp'\n",
    "all_admin1 = gpd.read_file(admin1)"
   ]
  },
  {
   "cell_type": "code",
   "execution_count": 9,
   "metadata": {
    "collapsed": true,
    "executionInfo": {
     "elapsed": 148274,
     "status": "ok",
     "timestamp": 1615908513197,
     "user": {
      "displayName": "Shenghao (Lavender) Zhang",
      "photoUrl": "",
      "userId": "11112508187709723646"
     },
     "user_tz": 240
    },
    "id": "jPMvdJU6_Nx4"
   },
   "outputs": [],
   "source": [
    "regions = pd.merge(data_regions, all_admin1, how='left', on='ADM1_CODE')"
   ]
  },
  {
   "cell_type": "code",
   "execution_count": 10,
   "metadata": {},
   "outputs": [
    {
     "data": {
      "text/html": [
       "<div>\n",
       "<style scoped>\n",
       "    .dataframe tbody tr th:only-of-type {\n",
       "        vertical-align: middle;\n",
       "    }\n",
       "\n",
       "    .dataframe tbody tr th {\n",
       "        vertical-align: top;\n",
       "    }\n",
       "\n",
       "    .dataframe thead th {\n",
       "        text-align: right;\n",
       "    }\n",
       "</style>\n",
       "<table border=\"1\" class=\"dataframe\">\n",
       "  <thead>\n",
       "    <tr style=\"text-align: right;\">\n",
       "      <th></th>\n",
       "      <th>index</th>\n",
       "      <th>ADM1_CODE</th>\n",
       "      <th>ADM0_NAME_x</th>\n",
       "      <th>Start</th>\n",
       "      <th>End</th>\n",
       "      <th>CS</th>\n",
       "      <th>geometry_x</th>\n",
       "      <th>ADM1_NAME</th>\n",
       "      <th>ADM0_CODE</th>\n",
       "      <th>ADM0_NAME_y</th>\n",
       "      <th>CONTINENT</th>\n",
       "      <th>REGION</th>\n",
       "      <th>geometry_y</th>\n",
       "    </tr>\n",
       "  </thead>\n",
       "  <tbody>\n",
       "    <tr>\n",
       "      <th>0</th>\n",
       "      <td>22108</td>\n",
       "      <td>69550</td>\n",
       "      <td>Zimbabwe</td>\n",
       "      <td>2020-06-30</td>\n",
       "      <td>2020-10-31</td>\n",
       "      <td>3.0</td>\n",
       "      <td>POLYGON ((32.46210 -16.69821, 32.46248 -16.698...</td>\n",
       "      <td>Mashonaland East</td>\n",
       "      <td>271</td>\n",
       "      <td>Zimbabwe</td>\n",
       "      <td>Africa</td>\n",
       "      <td>Eastern Africa</td>\n",
       "      <td>POLYGON ((32.46210 -16.69821, 32.46248 -16.698...</td>\n",
       "    </tr>\n",
       "    <tr>\n",
       "      <th>1</th>\n",
       "      <td>6932</td>\n",
       "      <td>69550</td>\n",
       "      <td>Zimbabwe</td>\n",
       "      <td>2020-01-31</td>\n",
       "      <td>2020-02-29</td>\n",
       "      <td>3.0</td>\n",
       "      <td>POLYGON ((32.46210 -16.69821, 32.46248 -16.698...</td>\n",
       "      <td>Mashonaland East</td>\n",
       "      <td>271</td>\n",
       "      <td>Zimbabwe</td>\n",
       "      <td>Africa</td>\n",
       "      <td>Eastern Africa</td>\n",
       "      <td>POLYGON ((32.46210 -16.69821, 32.46248 -16.698...</td>\n",
       "    </tr>\n",
       "    <tr>\n",
       "      <th>2</th>\n",
       "      <td>8327</td>\n",
       "      <td>69550</td>\n",
       "      <td>Zimbabwe</td>\n",
       "      <td>2019-06-30</td>\n",
       "      <td>2019-10-31</td>\n",
       "      <td>3.0</td>\n",
       "      <td>POLYGON ((32.46210 -16.69821, 32.46248 -16.698...</td>\n",
       "      <td>Mashonaland East</td>\n",
       "      <td>271</td>\n",
       "      <td>Zimbabwe</td>\n",
       "      <td>Africa</td>\n",
       "      <td>Eastern Africa</td>\n",
       "      <td>POLYGON ((32.46210 -16.69821, 32.46248 -16.698...</td>\n",
       "    </tr>\n",
       "    <tr>\n",
       "      <th>3</th>\n",
       "      <td>18086</td>\n",
       "      <td>69550</td>\n",
       "      <td>Zimbabwe</td>\n",
       "      <td>2019-01-31</td>\n",
       "      <td>2019-02-28</td>\n",
       "      <td>3.0</td>\n",
       "      <td>POLYGON ((32.46210 -16.69821, 32.46248 -16.698...</td>\n",
       "      <td>Mashonaland East</td>\n",
       "      <td>271</td>\n",
       "      <td>Zimbabwe</td>\n",
       "      <td>Africa</td>\n",
       "      <td>Eastern Africa</td>\n",
       "      <td>POLYGON ((32.46210 -16.69821, 32.46248 -16.698...</td>\n",
       "    </tr>\n",
       "    <tr>\n",
       "      <th>4</th>\n",
       "      <td>23882</td>\n",
       "      <td>69550</td>\n",
       "      <td>Zimbabwe</td>\n",
       "      <td>2018-10-31</td>\n",
       "      <td>2018-12-31</td>\n",
       "      <td>3.0</td>\n",
       "      <td>POLYGON ((32.46210 -16.69821, 32.46248 -16.698...</td>\n",
       "      <td>Mashonaland East</td>\n",
       "      <td>271</td>\n",
       "      <td>Zimbabwe</td>\n",
       "      <td>Africa</td>\n",
       "      <td>Eastern Africa</td>\n",
       "      <td>POLYGON ((32.46210 -16.69821, 32.46248 -16.698...</td>\n",
       "    </tr>\n",
       "  </tbody>\n",
       "</table>\n",
       "</div>"
      ],
      "text/plain": [
       "   index  ADM1_CODE ADM0_NAME_x       Start         End   CS  \\\n",
       "0  22108      69550    Zimbabwe  2020-06-30  2020-10-31  3.0   \n",
       "1   6932      69550    Zimbabwe  2020-01-31  2020-02-29  3.0   \n",
       "2   8327      69550    Zimbabwe  2019-06-30  2019-10-31  3.0   \n",
       "3  18086      69550    Zimbabwe  2019-01-31  2019-02-28  3.0   \n",
       "4  23882      69550    Zimbabwe  2018-10-31  2018-12-31  3.0   \n",
       "\n",
       "                                          geometry_x         ADM1_NAME  \\\n",
       "0  POLYGON ((32.46210 -16.69821, 32.46248 -16.698...  Mashonaland East   \n",
       "1  POLYGON ((32.46210 -16.69821, 32.46248 -16.698...  Mashonaland East   \n",
       "2  POLYGON ((32.46210 -16.69821, 32.46248 -16.698...  Mashonaland East   \n",
       "3  POLYGON ((32.46210 -16.69821, 32.46248 -16.698...  Mashonaland East   \n",
       "4  POLYGON ((32.46210 -16.69821, 32.46248 -16.698...  Mashonaland East   \n",
       "\n",
       "   ADM0_CODE ADM0_NAME_y CONTINENT          REGION  \\\n",
       "0        271    Zimbabwe    Africa  Eastern Africa   \n",
       "1        271    Zimbabwe    Africa  Eastern Africa   \n",
       "2        271    Zimbabwe    Africa  Eastern Africa   \n",
       "3        271    Zimbabwe    Africa  Eastern Africa   \n",
       "4        271    Zimbabwe    Africa  Eastern Africa   \n",
       "\n",
       "                                          geometry_y  \n",
       "0  POLYGON ((32.46210 -16.69821, 32.46248 -16.698...  \n",
       "1  POLYGON ((32.46210 -16.69821, 32.46248 -16.698...  \n",
       "2  POLYGON ((32.46210 -16.69821, 32.46248 -16.698...  \n",
       "3  POLYGON ((32.46210 -16.69821, 32.46248 -16.698...  \n",
       "4  POLYGON ((32.46210 -16.69821, 32.46248 -16.698...  "
      ]
     },
     "execution_count": 10,
     "metadata": {},
     "output_type": "execute_result"
    }
   ],
   "source": [
    "regions.head()"
   ]
  },
  {
   "cell_type": "code",
   "execution_count": 11,
   "metadata": {},
   "outputs": [
    {
     "name": "stderr",
     "output_type": "stream",
     "text": [
      "/Applications/anaconda3/envs/learn-env/lib/python3.6/site-packages/ipykernel_launcher.py:3: SettingWithCopyWarning: \n",
      "A value is trying to be set on a copy of a slice from a DataFrame\n",
      "\n",
      "See the caveats in the documentation: http://pandas.pydata.org/pandas-docs/stable/user_guide/indexing.html#returning-a-view-versus-a-copy\n",
      "  This is separate from the ipykernel package so we can avoid doing imports until\n",
      "/Applications/anaconda3/envs/learn-env/lib/python3.6/site-packages/ipykernel_launcher.py:5: SettingWithCopyWarning: \n",
      "A value is trying to be set on a copy of a slice from a DataFrame\n",
      "\n",
      "See the caveats in the documentation: http://pandas.pydata.org/pandas-docs/stable/user_guide/indexing.html#returning-a-view-versus-a-copy\n",
      "  \"\"\"\n"
     ]
    }
   ],
   "source": [
    "for i in range(len(regions)):\n",
    "    if regions.End[i] == '2020-02-29':\n",
    "        regions.Start[i] = '2019-11-01'\n",
    "    elif regions.End[i] == '2019-02-28':\n",
    "        regions.Start[i] = '2019-01-01'"
   ]
  },
  {
   "cell_type": "code",
   "execution_count": 11,
   "metadata": {
    "collapsed": true,
    "executionInfo": {
     "elapsed": 147565,
     "status": "ok",
     "timestamp": 1615908513198,
     "user": {
      "displayName": "Shenghao (Lavender) Zhang",
      "photoUrl": "",
      "userId": "11112508187709723646"
     },
     "user_tz": 240
    },
    "id": "hZfJd918ALnp"
   },
   "outputs": [],
   "source": [
    "df_africa_ = df_africa[df_africa.admin1.isin(regions.ADM1_NAME.unique())].reset_index(drop=True)"
   ]
  },
  {
   "cell_type": "code",
   "execution_count": 12,
   "metadata": {
    "collapsed": true
   },
   "outputs": [],
   "source": [
    "regions_dura = regions[['ADM1_CODE','ADM1_NAME','Start', 'End', 'CS']].drop_duplicates().reset_index(drop=True)\n"
   ]
  },
  {
   "cell_type": "code",
   "execution_count": 13,
   "metadata": {
    "collapsed": true
   },
   "outputs": [],
   "source": [
    "two_month = dt.timedelta(days=60)\n",
    "one_month = dt.timedelta(days=15)\n",
    "regions_dura['Start_2'] = pd.to_datetime(regions_dura['Start']) - two_month\n",
    "regions_dura['End_2'] = pd.to_datetime(regions_dura['End']) - one_month\n"
   ]
  },
  {
   "cell_type": "code",
   "execution_count": 14,
   "metadata": {
    "collapsed": true
   },
   "outputs": [],
   "source": [
    "df_africa_['event_date'] = pd.to_datetime(df_africa_['event_date'])"
   ]
  },
  {
   "cell_type": "code",
   "execution_count": 15,
   "metadata": {
    "collapsed": true
   },
   "outputs": [],
   "source": [
    "#Make the db in memory\n",
    "conn = sqlite3.connect(':memory:')\n",
    "#write the tables\n",
    "regions_dura.to_sql('regions', conn, index=False)\n",
    "df_africa_.to_sql('df_africa_', conn, index=False)"
   ]
  },
  {
   "cell_type": "code",
   "execution_count": 16,
   "metadata": {},
   "outputs": [
    {
     "data": {
      "text/plain": [
       "Index(['data_id', 'iso', 'event_date', 'year', 'event_type', 'sub_event_type',\n",
       "       'actor1', 'assoc_actor_1', 'actor2', 'assoc_actor_2', 'interaction',\n",
       "       'country', 'admin1', 'location', 'latitude', 'longitude', 'notes',\n",
       "       'fatalities', 'iso3'],\n",
       "      dtype='object')"
      ]
     },
     "execution_count": 16,
     "metadata": {},
     "output_type": "execute_result"
    }
   ],
   "source": [
    "qry = '''select * from df_africa_'''\n",
    "df = pd.read_sql_query(qry, conn)\n",
    "df.columns"
   ]
  },
  {
   "cell_type": "code",
   "execution_count": 17,
   "metadata": {
    "collapsed": true
   },
   "outputs": [],
   "source": [
    "qry = '''    select  \n",
    "       da.data_id,\n",
    "       da.event_date, da.year,\n",
    "       da.admin1, da.event_type, da.sub_event_type,\n",
    "       da.actor1, da.assoc_actor_1,\n",
    "       da.actor2, da.assoc_actor_2,\n",
    "       da.interaction,da.country, da.admin1,\n",
    "       da.location, da.latitude, da.longitude,\n",
    "       da.notes, da.fatalities, \n",
    "       rs.ADM1_CODE, rs.Start, rs.End, rs.CS\n",
    "    from\n",
    "        df_africa_ as da\n",
    "        join regions as rs on rs.ADM1_NAME = da.admin1\n",
    "        where da.event_date <= rs.End_2\n",
    "        and da.event_date >= rs.Start_2\n",
    "    '''\n",
    "df_joined = pd.read_sql_query(qry, conn)"
   ]
  },
  {
   "cell_type": "code",
   "execution_count": 18,
   "metadata": {},
   "outputs": [
    {
     "data": {
      "text/html": [
       "<div>\n",
       "<style scoped>\n",
       "    .dataframe tbody tr th:only-of-type {\n",
       "        vertical-align: middle;\n",
       "    }\n",
       "\n",
       "    .dataframe tbody tr th {\n",
       "        vertical-align: top;\n",
       "    }\n",
       "\n",
       "    .dataframe thead th {\n",
       "        text-align: right;\n",
       "    }\n",
       "</style>\n",
       "<table border=\"1\" class=\"dataframe\">\n",
       "  <thead>\n",
       "    <tr style=\"text-align: right;\">\n",
       "      <th></th>\n",
       "      <th>data_id</th>\n",
       "      <th>event_date</th>\n",
       "      <th>year</th>\n",
       "      <th>admin1</th>\n",
       "      <th>event_type</th>\n",
       "      <th>sub_event_type</th>\n",
       "      <th>actor1</th>\n",
       "      <th>assoc_actor_1</th>\n",
       "      <th>actor2</th>\n",
       "      <th>assoc_actor_2</th>\n",
       "      <th>...</th>\n",
       "      <th>admin1</th>\n",
       "      <th>location</th>\n",
       "      <th>latitude</th>\n",
       "      <th>longitude</th>\n",
       "      <th>notes</th>\n",
       "      <th>fatalities</th>\n",
       "      <th>ADM1_CODE</th>\n",
       "      <th>Start</th>\n",
       "      <th>End</th>\n",
       "      <th>CS</th>\n",
       "    </tr>\n",
       "  </thead>\n",
       "  <tbody>\n",
       "    <tr>\n",
       "      <th>0</th>\n",
       "      <td>7737358</td>\n",
       "      <td>2020-10-16 00:00:00</td>\n",
       "      <td>2020</td>\n",
       "      <td>Edo</td>\n",
       "      <td>Riots</td>\n",
       "      <td>Violent demonstration</td>\n",
       "      <td>Rioters (Nigeria)</td>\n",
       "      <td>#EndSARS</td>\n",
       "      <td>Unidentified Armed Group (Nigeria)</td>\n",
       "      <td>None</td>\n",
       "      <td>...</td>\n",
       "      <td>Edo</td>\n",
       "      <td>Benin City</td>\n",
       "      <td>6.3351</td>\n",
       "      <td>5.6275</td>\n",
       "      <td>On 16 October 2020, thousands of supporters of...</td>\n",
       "      <td>1</td>\n",
       "      <td>2219</td>\n",
       "      <td>2020-06-30</td>\n",
       "      <td>2020-10-31</td>\n",
       "      <td>2.0</td>\n",
       "    </tr>\n",
       "    <tr>\n",
       "      <th>1</th>\n",
       "      <td>7252503</td>\n",
       "      <td>2020-10-16 00:00:00</td>\n",
       "      <td>2020</td>\n",
       "      <td>Lagos</td>\n",
       "      <td>Riots</td>\n",
       "      <td>Violent demonstration</td>\n",
       "      <td>Rioters (Nigeria)</td>\n",
       "      <td>#EndSARS</td>\n",
       "      <td>Unidentified Armed Group (Nigeria)</td>\n",
       "      <td>None</td>\n",
       "      <td>...</td>\n",
       "      <td>Lagos</td>\n",
       "      <td>Alausa</td>\n",
       "      <td>6.6096</td>\n",
       "      <td>3.3566</td>\n",
       "      <td>On 16 October 2020, supporters of the #EndSARS...</td>\n",
       "      <td>0</td>\n",
       "      <td>2230</td>\n",
       "      <td>2020-06-30</td>\n",
       "      <td>2020-10-31</td>\n",
       "      <td>2.0</td>\n",
       "    </tr>\n",
       "    <tr>\n",
       "      <th>2</th>\n",
       "      <td>7258392</td>\n",
       "      <td>2020-10-16 00:00:00</td>\n",
       "      <td>2020</td>\n",
       "      <td>Tombouctou</td>\n",
       "      <td>Protests</td>\n",
       "      <td>Peaceful protest</td>\n",
       "      <td>Protesters (Mali)</td>\n",
       "      <td>Arab Ethnic Group (Mali); Tuareg Ethnic Group ...</td>\n",
       "      <td>None</td>\n",
       "      <td>None</td>\n",
       "      <td>...</td>\n",
       "      <td>Tombouctou</td>\n",
       "      <td>Timbuktu</td>\n",
       "      <td>16.7705</td>\n",
       "      <td>-3.0056</td>\n",
       "      <td>On 16 October 2020, about nine hundred of memb...</td>\n",
       "      <td>0</td>\n",
       "      <td>1934</td>\n",
       "      <td>2020-06-30</td>\n",
       "      <td>2020-10-31</td>\n",
       "      <td>2.0</td>\n",
       "    </tr>\n",
       "    <tr>\n",
       "      <th>3</th>\n",
       "      <td>7252508</td>\n",
       "      <td>2020-10-16 00:00:00</td>\n",
       "      <td>2020</td>\n",
       "      <td>Lagos</td>\n",
       "      <td>Protests</td>\n",
       "      <td>Peaceful protest</td>\n",
       "      <td>Protesters (Nigeria)</td>\n",
       "      <td>#EndSARS</td>\n",
       "      <td>None</td>\n",
       "      <td>None</td>\n",
       "      <td>...</td>\n",
       "      <td>Lagos</td>\n",
       "      <td>Lekki</td>\n",
       "      <td>6.4095</td>\n",
       "      <td>4.0915</td>\n",
       "      <td>On 16 October 2020, supporters of the #EndSARS...</td>\n",
       "      <td>0</td>\n",
       "      <td>2230</td>\n",
       "      <td>2020-06-30</td>\n",
       "      <td>2020-10-31</td>\n",
       "      <td>2.0</td>\n",
       "    </tr>\n",
       "    <tr>\n",
       "      <th>4</th>\n",
       "      <td>7258413</td>\n",
       "      <td>2020-10-16 00:00:00</td>\n",
       "      <td>2020</td>\n",
       "      <td>Cabo Delgado</td>\n",
       "      <td>Battles</td>\n",
       "      <td>Armed clash</td>\n",
       "      <td>Military Forces of Mozambique (1990-)</td>\n",
       "      <td>None</td>\n",
       "      <td>Islamist Militia (Mozambique)</td>\n",
       "      <td>None</td>\n",
       "      <td>...</td>\n",
       "      <td>Cabo Delgado</td>\n",
       "      <td>Churumba</td>\n",
       "      <td>-12.5918</td>\n",
       "      <td>40.4218</td>\n",
       "      <td>Around 16 October 2020 (between 16 and 17 Octo...</td>\n",
       "      <td>0</td>\n",
       "      <td>2112</td>\n",
       "      <td>2020-06-30</td>\n",
       "      <td>2020-10-31</td>\n",
       "      <td>3.0</td>\n",
       "    </tr>\n",
       "  </tbody>\n",
       "</table>\n",
       "<p>5 rows × 22 columns</p>\n",
       "</div>"
      ],
      "text/plain": [
       "   data_id           event_date  year        admin1 event_type  \\\n",
       "0  7737358  2020-10-16 00:00:00  2020           Edo      Riots   \n",
       "1  7252503  2020-10-16 00:00:00  2020         Lagos      Riots   \n",
       "2  7258392  2020-10-16 00:00:00  2020    Tombouctou   Protests   \n",
       "3  7252508  2020-10-16 00:00:00  2020         Lagos   Protests   \n",
       "4  7258413  2020-10-16 00:00:00  2020  Cabo Delgado    Battles   \n",
       "\n",
       "          sub_event_type                                 actor1  \\\n",
       "0  Violent demonstration                      Rioters (Nigeria)   \n",
       "1  Violent demonstration                      Rioters (Nigeria)   \n",
       "2       Peaceful protest                      Protesters (Mali)   \n",
       "3       Peaceful protest                   Protesters (Nigeria)   \n",
       "4            Armed clash  Military Forces of Mozambique (1990-)   \n",
       "\n",
       "                                       assoc_actor_1  \\\n",
       "0                                           #EndSARS   \n",
       "1                                           #EndSARS   \n",
       "2  Arab Ethnic Group (Mali); Tuareg Ethnic Group ...   \n",
       "3                                           #EndSARS   \n",
       "4                                               None   \n",
       "\n",
       "                               actor2 assoc_actor_2  ...        admin1  \\\n",
       "0  Unidentified Armed Group (Nigeria)          None  ...           Edo   \n",
       "1  Unidentified Armed Group (Nigeria)          None  ...         Lagos   \n",
       "2                                None          None  ...    Tombouctou   \n",
       "3                                None          None  ...         Lagos   \n",
       "4       Islamist Militia (Mozambique)          None  ...  Cabo Delgado   \n",
       "\n",
       "     location latitude longitude  \\\n",
       "0  Benin City   6.3351    5.6275   \n",
       "1      Alausa   6.6096    3.3566   \n",
       "2    Timbuktu  16.7705   -3.0056   \n",
       "3       Lekki   6.4095    4.0915   \n",
       "4    Churumba -12.5918   40.4218   \n",
       "\n",
       "                                               notes  fatalities ADM1_CODE  \\\n",
       "0  On 16 October 2020, thousands of supporters of...           1      2219   \n",
       "1  On 16 October 2020, supporters of the #EndSARS...           0      2230   \n",
       "2  On 16 October 2020, about nine hundred of memb...           0      1934   \n",
       "3  On 16 October 2020, supporters of the #EndSARS...           0      2230   \n",
       "4  Around 16 October 2020 (between 16 and 17 Octo...           0      2112   \n",
       "\n",
       "        Start         End   CS  \n",
       "0  2020-06-30  2020-10-31  2.0  \n",
       "1  2020-06-30  2020-10-31  2.0  \n",
       "2  2020-06-30  2020-10-31  2.0  \n",
       "3  2020-06-30  2020-10-31  2.0  \n",
       "4  2020-06-30  2020-10-31  3.0  \n",
       "\n",
       "[5 rows x 22 columns]"
      ]
     },
     "execution_count": 18,
     "metadata": {},
     "output_type": "execute_result"
    }
   ],
   "source": [
    "df_joined.head()"
   ]
  },
  {
   "cell_type": "code",
   "execution_count": 42,
   "metadata": {
    "collapsed": true,
    "executionInfo": {
     "elapsed": 117,
     "status": "aborted",
     "timestamp": 1615936402378,
     "user": {
      "displayName": "Shenghao (Lavender) Zhang",
      "photoUrl": "",
      "userId": "11112508187709723646"
     },
     "user_tz": 240
    },
    "id": "4D94YeymFBGo"
   },
   "outputs": [],
   "source": [
    "df_joined.to_csv('Social_conflict.csv')"
   ]
  },
  {
   "cell_type": "markdown",
   "metadata": {},
   "source": [
    "## Cleaning"
   ]
  },
  {
   "cell_type": "code",
   "execution_count": 12,
   "metadata": {
    "collapsed": true
   },
   "outputs": [],
   "source": [
    "df_raw = pd.read_csv('Social_conflict.csv')"
   ]
  },
  {
   "cell_type": "code",
   "execution_count": 13,
   "metadata": {
    "collapsed": true
   },
   "outputs": [],
   "source": [
    "df = df_raw[['data_id', 'event_date', 'year', 'admin1', 'ADM1_CODE', 'event_type',\n",
    "        'actor1', 'actor2', \n",
    "       'interaction', 'country',  'location', 'latitude',\n",
    "       'longitude', 'notes', 'fatalities', 'Start', 'End', 'CS']]"
   ]
  },
  {
   "cell_type": "code",
   "execution_count": 14,
   "metadata": {},
   "outputs": [
    {
     "name": "stderr",
     "output_type": "stream",
     "text": [
      "/Users/lavendershenghaozhang/.local/lib/python3.6/site-packages/pandas/core/indexing.py:494: SettingWithCopyWarning: \n",
      "A value is trying to be set on a copy of a slice from a DataFrame.\n",
      "Try using .loc[row_indexer,col_indexer] = value instead\n",
      "\n",
      "See the caveats in the documentation: http://pandas.pydata.org/pandas-docs/stable/user_guide/indexing.html#returning-a-view-versus-a-copy\n",
      "  self.obj[item] = s\n"
     ]
    }
   ],
   "source": [
    "df.loc[df['actor1'].str.contains('Protesters'), 'actor1'] = 'Protesters'\n",
    "df.loc[df['actor1'].str.contains('Military'), 'actor1'] = 'Military'\n",
    "df.loc[df['actor1'].str.contains('Rioters'), 'actor1'] = 'Rioters'\n",
    "df.loc[df['actor1'].str.contains('Police Forces'), 'actor1'] = 'Police Forces'\n",
    "df.loc[df['actor1'].str.contains('Unidentified Armed Group'), 'actor1'] = 'Unidentified Armed Group'\n",
    "df.loc[df['actor1'].str.contains('AMISOM'), 'actor1'] = 'AMISOM'\n",
    "df.loc[df['actor1'].str.contains('Militia'), 'actor1'] = 'Militia'\n",
    "df.loc[df['actor1'].str.contains('Islamic State'), 'actor1'] = 'Islamic State'\n",
    "df.loc[df['actor1'].str.contains('Government of'), 'actor1'] = 'Government'\n",
    "df.loc[df['actor1'].str.contains('Pirate'), 'actor1'] = 'Pirates'\n",
    "df.loc[df['actor1'].str.contains('Patriotic Front'), 'actor1'] = 'Patriotic Front'\n",
    "df.loc[df['actor1'].str.contains('Private Security Forces'), 'actor1'] = 'Private Security Forces'\n",
    "df.loc[df['actor1'].str.contains('Liberation Front'), 'actor1'] = 'Liberation Front'\n",
    "df.loc[df['actor1'].str.contains('Liberation Movement-In Opposition'), 'actor1'] = 'Liberation Movement-In Opposition'"
   ]
  },
  {
   "cell_type": "code",
   "execution_count": 15,
   "metadata": {},
   "outputs": [
    {
     "name": "stderr",
     "output_type": "stream",
     "text": [
      "/Applications/anaconda3/envs/learn-env/lib/python3.6/site-packages/ipykernel_launcher.py:1: SettingWithCopyWarning: \n",
      "A value is trying to be set on a copy of a slice from a DataFrame.\n",
      "Try using .loc[row_indexer,col_indexer] = value instead\n",
      "\n",
      "See the caveats in the documentation: http://pandas.pydata.org/pandas-docs/stable/user_guide/indexing.html#returning-a-view-versus-a-copy\n",
      "  \"\"\"Entry point for launching an IPython kernel.\n"
     ]
    }
   ],
   "source": [
    "df['actor2'] = df['actor2'].fillna('none')\n",
    "df.loc[df['actor2'].str.contains('Civilians'), 'actor2'] = 'Civilians'\n",
    "df.loc[df['actor2'].str.contains('Military'), 'actor2'] = 'Military'\n",
    "df.loc[df['actor2'].str.contains('Islamic State'), 'actor2'] = 'Islamic State'\n",
    "df.loc[df['actor2'].str.contains('Police Forces'), 'actor2'] = 'Police Forces'\n",
    "df.loc[df['actor2'].str.contains('Militia'), 'actor2'] = 'Militia'\n",
    "df.loc[df['actor2'].str.contains('AMISOM'), 'actor2'] = 'AMISOM'\n",
    "df.loc[df['actor2'].str.contains('Rioters'), 'actor2'] = 'Rioters'\n",
    "df.loc[df['actor2'].str.contains('Unidentified Armed Group'), 'actor2'] = 'Unidentified Armed Group'\n",
    "df.loc[df['actor2'].str.contains('MINUSMA'), 'actor2'] = 'MINUSMA'\n",
    "df.loc[df['actor2'].str.contains('Protesters'), 'actor2'] = 'Protesters'\n",
    "df.loc[df['actor2'].str.contains('Patriotic Front'), 'actor2'] = 'Patriotic Front'\n",
    "df.loc[df['actor2'].str.contains('Private Security Forces'), 'actor2'] = 'Private Security Forces'\n"
   ]
  },
  {
   "cell_type": "code",
   "execution_count": 16,
   "metadata": {},
   "outputs": [
    {
     "data": {
      "text/plain": [
       "(0.9167034755317912, 0.9413925374869232)"
      ]
     },
     "execution_count": 16,
     "metadata": {},
     "output_type": "execute_result"
    }
   ],
   "source": [
    "df.actor1.value_counts()[:10].sum()/df.actor1.value_counts().sum(), df.actor2.value_counts()[:10].sum()/df.actor2.value_counts().sum()\n"
   ]
  },
  {
   "cell_type": "code",
   "execution_count": 17,
   "metadata": {},
   "outputs": [
    {
     "name": "stderr",
     "output_type": "stream",
     "text": [
      "/Applications/anaconda3/envs/learn-env/lib/python3.6/site-packages/ipykernel_launcher.py:4: SettingWithCopyWarning: \n",
      "A value is trying to be set on a copy of a slice from a DataFrame.\n",
      "Try using .loc[row_indexer,col_indexer] = value instead\n",
      "\n",
      "See the caveats in the documentation: http://pandas.pydata.org/pandas-docs/stable/user_guide/indexing.html#returning-a-view-versus-a-copy\n",
      "  after removing the cwd from sys.path.\n",
      "/Applications/anaconda3/envs/learn-env/lib/python3.6/site-packages/ipykernel_launcher.py:9: SettingWithCopyWarning: \n",
      "A value is trying to be set on a copy of a slice from a DataFrame.\n",
      "Try using .loc[row_indexer,col_indexer] = value instead\n",
      "\n",
      "See the caveats in the documentation: http://pandas.pydata.org/pandas-docs/stable/user_guide/indexing.html#returning-a-view-versus-a-copy\n",
      "  if __name__ == '__main__':\n"
     ]
    }
   ],
   "source": [
    "actor_1 = []\n",
    "actor_1.extend([i for i in df.actor1.value_counts()[:10].index])\n",
    "df['actor_1'] = np.where(df.actor1.isin(actor_1),\n",
    "                df.actor1, 'Other')\n",
    "\n",
    "actor_2 = []\n",
    "actor_2.extend([i for i in df.actor2.value_counts()[:10].index])\n",
    "df['actor_2'] = np.where(df.actor2.isin(actor_2),\n",
    "                df.actor2, 'Other')"
   ]
  },
  {
   "cell_type": "code",
   "execution_count": 18,
   "metadata": {},
   "outputs": [
    {
     "data": {
      "text/html": [
       "<div>\n",
       "<style scoped>\n",
       "    .dataframe tbody tr th:only-of-type {\n",
       "        vertical-align: middle;\n",
       "    }\n",
       "\n",
       "    .dataframe tbody tr th {\n",
       "        vertical-align: top;\n",
       "    }\n",
       "\n",
       "    .dataframe thead th {\n",
       "        text-align: right;\n",
       "    }\n",
       "</style>\n",
       "<table border=\"1\" class=\"dataframe\">\n",
       "  <thead>\n",
       "    <tr style=\"text-align: right;\">\n",
       "      <th></th>\n",
       "      <th>admin1</th>\n",
       "      <th>Start</th>\n",
       "      <th>End</th>\n",
       "      <th>CS</th>\n",
       "      <th>data_id</th>\n",
       "    </tr>\n",
       "  </thead>\n",
       "  <tbody>\n",
       "    <tr>\n",
       "      <th>0</th>\n",
       "      <td>Abia</td>\n",
       "      <td>2010-01-31</td>\n",
       "      <td>2010-04-30</td>\n",
       "      <td>2.0</td>\n",
       "      <td>8</td>\n",
       "    </tr>\n",
       "    <tr>\n",
       "      <th>1</th>\n",
       "      <td>Abia</td>\n",
       "      <td>2010-07-31</td>\n",
       "      <td>2010-10-31</td>\n",
       "      <td>2.0</td>\n",
       "      <td>2</td>\n",
       "    </tr>\n",
       "    <tr>\n",
       "      <th>2</th>\n",
       "      <td>Abia</td>\n",
       "      <td>2011-01-31</td>\n",
       "      <td>2011-04-30</td>\n",
       "      <td>1.0</td>\n",
       "      <td>2</td>\n",
       "    </tr>\n",
       "    <tr>\n",
       "      <th>3</th>\n",
       "      <td>Abia</td>\n",
       "      <td>2012-07-31</td>\n",
       "      <td>2012-10-31</td>\n",
       "      <td>1.0</td>\n",
       "      <td>1</td>\n",
       "    </tr>\n",
       "    <tr>\n",
       "      <th>4</th>\n",
       "      <td>Abia</td>\n",
       "      <td>2013-01-31</td>\n",
       "      <td>2013-04-30</td>\n",
       "      <td>1.0</td>\n",
       "      <td>1</td>\n",
       "    </tr>\n",
       "    <tr>\n",
       "      <th>...</th>\n",
       "      <td>...</td>\n",
       "      <td>...</td>\n",
       "      <td>...</td>\n",
       "      <td>...</td>\n",
       "      <td>...</td>\n",
       "    </tr>\n",
       "    <tr>\n",
       "      <th>2746</th>\n",
       "      <td>Zinder</td>\n",
       "      <td>2019-06-30</td>\n",
       "      <td>2019-10-31</td>\n",
       "      <td>2.0</td>\n",
       "      <td>1</td>\n",
       "    </tr>\n",
       "    <tr>\n",
       "      <th>2747</th>\n",
       "      <td>Zinder</td>\n",
       "      <td>2019-11-01</td>\n",
       "      <td>2020-02-29</td>\n",
       "      <td>2.0</td>\n",
       "      <td>2</td>\n",
       "    </tr>\n",
       "    <tr>\n",
       "      <th>2748</th>\n",
       "      <td>Zinder</td>\n",
       "      <td>2020-06-30</td>\n",
       "      <td>2020-10-31</td>\n",
       "      <td>2.0</td>\n",
       "      <td>1</td>\n",
       "    </tr>\n",
       "    <tr>\n",
       "      <th>2749</th>\n",
       "      <td>Zombo</td>\n",
       "      <td>2019-06-30</td>\n",
       "      <td>2019-10-31</td>\n",
       "      <td>2.0</td>\n",
       "      <td>1</td>\n",
       "    </tr>\n",
       "    <tr>\n",
       "      <th>2750</th>\n",
       "      <td>Zombo</td>\n",
       "      <td>2020-06-30</td>\n",
       "      <td>2020-10-31</td>\n",
       "      <td>3.0</td>\n",
       "      <td>2</td>\n",
       "    </tr>\n",
       "  </tbody>\n",
       "</table>\n",
       "<p>2751 rows × 5 columns</p>\n",
       "</div>"
      ],
      "text/plain": [
       "      admin1       Start         End   CS  data_id\n",
       "0       Abia  2010-01-31  2010-04-30  2.0        8\n",
       "1       Abia  2010-07-31  2010-10-31  2.0        2\n",
       "2       Abia  2011-01-31  2011-04-30  1.0        2\n",
       "3       Abia  2012-07-31  2012-10-31  1.0        1\n",
       "4       Abia  2013-01-31  2013-04-30  1.0        1\n",
       "...      ...         ...         ...  ...      ...\n",
       "2746  Zinder  2019-06-30  2019-10-31  2.0        1\n",
       "2747  Zinder  2019-11-01  2020-02-29  2.0        2\n",
       "2748  Zinder  2020-06-30  2020-10-31  2.0        1\n",
       "2749   Zombo  2019-06-30  2019-10-31  2.0        1\n",
       "2750   Zombo  2020-06-30  2020-10-31  3.0        2\n",
       "\n",
       "[2751 rows x 5 columns]"
      ]
     },
     "execution_count": 18,
     "metadata": {},
     "output_type": "execute_result"
    }
   ],
   "source": [
    "count_raw = pd.DataFrame(df.groupby(['admin1', 'Start',\n",
    "        'End', 'CS'])['data_id'].nunique()).reset_index()\n",
    "count_raw"
   ]
  },
  {
   "cell_type": "code",
   "execution_count": 19,
   "metadata": {
    "collapsed": true
   },
   "outputs": [],
   "source": [
    "counts = pd.DataFrame(df.groupby(['admin1','ADM1_CODE', 'Start',\n",
    "        'End', 'CS', 'event_type']).agg({'data_id': 'nunique', 'fatalities': 'sum'}))"
   ]
  },
  {
   "cell_type": "code",
   "execution_count": 20,
   "metadata": {
    "collapsed": true
   },
   "outputs": [],
   "source": [
    "counts_pivot = counts.pivot_table('data_id', ['admin1', 'ADM1_CODE', 'Start', 'End', 'CS'], 'event_type').reset_index()"
   ]
  },
  {
   "cell_type": "code",
   "execution_count": 21,
   "metadata": {
    "collapsed": true
   },
   "outputs": [],
   "source": [
    "counts_pivot = counts_pivot.fillna(0).sort_values(by='Battles',ascending=False).reset_index()"
   ]
  },
  {
   "cell_type": "code",
   "execution_count": 22,
   "metadata": {},
   "outputs": [
    {
     "data": {
      "text/plain": [
       "1.0    1262\n",
       "2.0     751\n",
       "3.0     579\n",
       "4.0     161\n",
       "5.0       6\n",
       "Name: CS, dtype: int64"
      ]
     },
     "execution_count": 22,
     "metadata": {},
     "output_type": "execute_result"
    }
   ],
   "source": [
    "counts_pivot.CS.value_counts()"
   ]
  },
  {
   "cell_type": "markdown",
   "metadata": {},
   "source": [
    "# First Model"
   ]
  },
  {
   "cell_type": "markdown",
   "metadata": {},
   "source": [
    "## Random Forest"
   ]
  },
  {
   "cell_type": "markdown",
   "metadata": {},
   "source": [
    "## XGBoost"
   ]
  },
  {
   "cell_type": "code",
   "execution_count": 57,
   "metadata": {},
   "outputs": [
    {
     "data": {
      "text/plain": [
       "Index(['index', 'admin1', 'ADM1_CODE', 'Start', 'End', 'CS', 'Battles',\n",
       "       'Explosions/Remote violence', 'Protests', 'Riots',\n",
       "       'Strategic developments', 'Violence against civilians'],\n",
       "      dtype='object', name='event_type')"
      ]
     },
     "execution_count": 57,
     "metadata": {},
     "output_type": "execute_result"
    }
   ],
   "source": [
    "counts_pivot.columns"
   ]
  },
  {
   "cell_type": "code",
   "execution_count": 58,
   "metadata": {
    "collapsed": true
   },
   "outputs": [],
   "source": [
    "X = counts_pivot[['Battles','Explosions/Remote violence', 'Protests', 'Riots',\n",
    "       'Strategic developments', 'Violence against civilians']]\n",
    "y = counts_pivot['CS']"
   ]
  },
  {
   "cell_type": "code",
   "execution_count": 59,
   "metadata": {
    "collapsed": true
   },
   "outputs": [],
   "source": [
    "X_train, X_test, y_train, y_test = train_test_split(X, y, test_size=0.3, random_state=12345)"
   ]
  },
  {
   "cell_type": "code",
   "execution_count": 60,
   "metadata": {
    "collapsed": true
   },
   "outputs": [],
   "source": [
    "model = XGBClassifier(seed = 10)\n",
    "model.fit(X_train, y_train)\n",
    "# make predictions for test data\n",
    "y_pred_train = model.predict(X_train)\n",
    "y_pred= model.predict(X_test)"
   ]
  },
  {
   "cell_type": "code",
   "execution_count": 61,
   "metadata": {},
   "outputs": [
    {
     "name": "stdout",
     "output_type": "stream",
     "text": [
      "Accuracy_test: 50.483%  Accuracy_train: 58.415% \n"
     ]
    }
   ],
   "source": [
    "print(\"Accuracy_test: %.3f%% \" % (accuracy_score(y_test, y_pred)*100), \n",
    "     \"Accuracy_train: %.3f%% \" % (accuracy_score(y_train, y_pred_train)*100))"
   ]
  },
  {
   "cell_type": "markdown",
   "metadata": {},
   "source": [
    "# Second Model - Adding Geophysical"
   ]
  },
  {
   "cell_type": "code",
   "execution_count": 23,
   "metadata": {
    "collapsed": true
   },
   "outputs": [],
   "source": [
    "phys = pd.read_csv('combo_all.csv')"
   ]
  },
  {
   "cell_type": "code",
   "execution_count": 24,
   "metadata": {},
   "outputs": [
    {
     "data": {
      "text/html": [
       "<div>\n",
       "<style scoped>\n",
       "    .dataframe tbody tr th:only-of-type {\n",
       "        vertical-align: middle;\n",
       "    }\n",
       "\n",
       "    .dataframe tbody tr th {\n",
       "        vertical-align: top;\n",
       "    }\n",
       "\n",
       "    .dataframe thead th {\n",
       "        text-align: right;\n",
       "    }\n",
       "</style>\n",
       "<table border=\"1\" class=\"dataframe\">\n",
       "  <thead>\n",
       "    <tr style=\"text-align: right;\">\n",
       "      <th></th>\n",
       "      <th>Unnamed: 0</th>\n",
       "      <th>ADM0_NAME_x</th>\n",
       "      <th>ADM1_CODE</th>\n",
       "      <th>Start</th>\n",
       "      <th>End</th>\n",
       "      <th>Evap_tavg_</th>\n",
       "      <th>Evap_tavg_std_</th>\n",
       "      <th>Lwnet_tavg</th>\n",
       "      <th>Lwnet_tavg_std</th>\n",
       "      <th>Qair_f_tavg</th>\n",
       "      <th>...</th>\n",
       "      <th>Wind_f_tavg_std</th>\n",
       "      <th>ozone_mean</th>\n",
       "      <th>ozone_std</th>\n",
       "      <th>npp_mean</th>\n",
       "      <th>npp_std</th>\n",
       "      <th>nl_mean</th>\n",
       "      <th>nl_std</th>\n",
       "      <th>nl_dataset</th>\n",
       "      <th>CS_y</th>\n",
       "      <th>geometry_x</th>\n",
       "    </tr>\n",
       "  </thead>\n",
       "  <tbody>\n",
       "    <tr>\n",
       "      <th>0</th>\n",
       "      <td>0</td>\n",
       "      <td>Uganda</td>\n",
       "      <td>772</td>\n",
       "      <td>2009-10-01</td>\n",
       "      <td>2010-01-31</td>\n",
       "      <td>0.000017</td>\n",
       "      <td>0.000003</td>\n",
       "      <td>-88.988055</td>\n",
       "      <td>2.166723</td>\n",
       "      <td>0.010839</td>\n",
       "      <td>...</td>\n",
       "      <td>0.496833</td>\n",
       "      <td>261.000000</td>\n",
       "      <td>0.000000</td>\n",
       "      <td>641.791315</td>\n",
       "      <td>499.061177</td>\n",
       "      <td>0.048754</td>\n",
       "      <td>0.005281</td>\n",
       "      <td>DMSP</td>\n",
       "      <td>3.0</td>\n",
       "      <td>POLYGON ((34.55464000000013 3.106570000000175,...</td>\n",
       "    </tr>\n",
       "    <tr>\n",
       "      <th>1</th>\n",
       "      <td>1</td>\n",
       "      <td>Uganda</td>\n",
       "      <td>1261</td>\n",
       "      <td>2009-10-01</td>\n",
       "      <td>2010-01-31</td>\n",
       "      <td>0.000029</td>\n",
       "      <td>0.000002</td>\n",
       "      <td>-64.721100</td>\n",
       "      <td>1.589415</td>\n",
       "      <td>0.012707</td>\n",
       "      <td>...</td>\n",
       "      <td>0.208014</td>\n",
       "      <td>262.000000</td>\n",
       "      <td>0.000000</td>\n",
       "      <td>2065.279452</td>\n",
       "      <td>2835.782508</td>\n",
       "      <td>0.047925</td>\n",
       "      <td>0.006648</td>\n",
       "      <td>DMSP</td>\n",
       "      <td>2.0</td>\n",
       "      <td>POLYGON ((34.22144902700018 1.643061499999988,...</td>\n",
       "    </tr>\n",
       "    <tr>\n",
       "      <th>2</th>\n",
       "      <td>2</td>\n",
       "      <td>Somalia</td>\n",
       "      <td>2700</td>\n",
       "      <td>2009-10-01</td>\n",
       "      <td>2010-01-31</td>\n",
       "      <td>0.000010</td>\n",
       "      <td>0.000004</td>\n",
       "      <td>-81.675635</td>\n",
       "      <td>3.208694</td>\n",
       "      <td>0.014806</td>\n",
       "      <td>...</td>\n",
       "      <td>0.351184</td>\n",
       "      <td>258.631483</td>\n",
       "      <td>0.482400</td>\n",
       "      <td>58.710866</td>\n",
       "      <td>130.748302</td>\n",
       "      <td>0.048068</td>\n",
       "      <td>0.003006</td>\n",
       "      <td>DMSP</td>\n",
       "      <td>4.0</td>\n",
       "      <td>POLYGON ((49.5010566710001 7.571147919000047, ...</td>\n",
       "    </tr>\n",
       "    <tr>\n",
       "      <th>3</th>\n",
       "      <td>3</td>\n",
       "      <td>Uganda</td>\n",
       "      <td>3117</td>\n",
       "      <td>2009-10-01</td>\n",
       "      <td>2010-01-31</td>\n",
       "      <td>0.000045</td>\n",
       "      <td>0.000003</td>\n",
       "      <td>-54.026152</td>\n",
       "      <td>1.303146</td>\n",
       "      <td>0.013100</td>\n",
       "      <td>...</td>\n",
       "      <td>0.231864</td>\n",
       "      <td>263.000462</td>\n",
       "      <td>0.020028</td>\n",
       "      <td>-9271.084617</td>\n",
       "      <td>3181.977951</td>\n",
       "      <td>0.047467</td>\n",
       "      <td>0.002150</td>\n",
       "      <td>DMSP</td>\n",
       "      <td>1.0</td>\n",
       "      <td>POLYGON ((32.72652202900015 -0.149085647999947...</td>\n",
       "    </tr>\n",
       "    <tr>\n",
       "      <th>4</th>\n",
       "      <td>4</td>\n",
       "      <td>Uganda</td>\n",
       "      <td>47087</td>\n",
       "      <td>2009-10-01</td>\n",
       "      <td>2010-01-31</td>\n",
       "      <td>0.000039</td>\n",
       "      <td>0.000002</td>\n",
       "      <td>-51.766110</td>\n",
       "      <td>0.587657</td>\n",
       "      <td>0.012815</td>\n",
       "      <td>...</td>\n",
       "      <td>0.057524</td>\n",
       "      <td>263.631697</td>\n",
       "      <td>0.929722</td>\n",
       "      <td>2644.906507</td>\n",
       "      <td>3319.672321</td>\n",
       "      <td>0.051528</td>\n",
       "      <td>0.012715</td>\n",
       "      <td>DMSP</td>\n",
       "      <td>1.0</td>\n",
       "      <td>POLYGON ((32.149610368 0.690105643000017, 32.1...</td>\n",
       "    </tr>\n",
       "  </tbody>\n",
       "</table>\n",
       "<p>5 rows × 46 columns</p>\n",
       "</div>"
      ],
      "text/plain": [
       "   Unnamed: 0 ADM0_NAME_x  ADM1_CODE       Start         End  Evap_tavg_  \\\n",
       "0           0      Uganda        772  2009-10-01  2010-01-31    0.000017   \n",
       "1           1      Uganda       1261  2009-10-01  2010-01-31    0.000029   \n",
       "2           2     Somalia       2700  2009-10-01  2010-01-31    0.000010   \n",
       "3           3      Uganda       3117  2009-10-01  2010-01-31    0.000045   \n",
       "4           4      Uganda      47087  2009-10-01  2010-01-31    0.000039   \n",
       "\n",
       "   Evap_tavg_std_  Lwnet_tavg  Lwnet_tavg_std  Qair_f_tavg  ...  \\\n",
       "0        0.000003  -88.988055        2.166723     0.010839  ...   \n",
       "1        0.000002  -64.721100        1.589415     0.012707  ...   \n",
       "2        0.000004  -81.675635        3.208694     0.014806  ...   \n",
       "3        0.000003  -54.026152        1.303146     0.013100  ...   \n",
       "4        0.000002  -51.766110        0.587657     0.012815  ...   \n",
       "\n",
       "   Wind_f_tavg_std  ozone_mean  ozone_std     npp_mean      npp_std   nl_mean  \\\n",
       "0         0.496833  261.000000   0.000000   641.791315   499.061177  0.048754   \n",
       "1         0.208014  262.000000   0.000000  2065.279452  2835.782508  0.047925   \n",
       "2         0.351184  258.631483   0.482400    58.710866   130.748302  0.048068   \n",
       "3         0.231864  263.000462   0.020028 -9271.084617  3181.977951  0.047467   \n",
       "4         0.057524  263.631697   0.929722  2644.906507  3319.672321  0.051528   \n",
       "\n",
       "     nl_std  nl_dataset  CS_y  \\\n",
       "0  0.005281        DMSP   3.0   \n",
       "1  0.006648        DMSP   2.0   \n",
       "2  0.003006        DMSP   4.0   \n",
       "3  0.002150        DMSP   1.0   \n",
       "4  0.012715        DMSP   1.0   \n",
       "\n",
       "                                          geometry_x  \n",
       "0  POLYGON ((34.55464000000013 3.106570000000175,...  \n",
       "1  POLYGON ((34.22144902700018 1.643061499999988,...  \n",
       "2  POLYGON ((49.5010566710001 7.571147919000047, ...  \n",
       "3  POLYGON ((32.72652202900015 -0.149085647999947...  \n",
       "4  POLYGON ((32.149610368 0.690105643000017, 32.1...  \n",
       "\n",
       "[5 rows x 46 columns]"
      ]
     },
     "execution_count": 24,
     "metadata": {},
     "output_type": "execute_result"
    }
   ],
   "source": [
    "phys.head()"
   ]
  },
  {
   "cell_type": "code",
   "execution_count": 25,
   "metadata": {
    "collapsed": true
   },
   "outputs": [],
   "source": [
    "## Merge\n",
    "geo_social = pd.merge(counts_pivot, phys, on=['ADM1_CODE', 'End'], how='left')"
   ]
  },
  {
   "cell_type": "code",
   "execution_count": 26,
   "metadata": {
    "collapsed": true
   },
   "outputs": [],
   "source": [
    "X = geo_social[['Evap_tavg_',\n",
    "       'Lwnet_tavg',  'Qair_f_tavg',\n",
    "        'Qh_tavg', \n",
    "       'Qs_tavg',   'Rainf_f_tavg', \n",
    "       'SoilMoi00_10cm_tavg', 'Swnet_tavg', \n",
    "       'Tair_f_tavg', 'Wind_f_tavg', 'ozone_mean',\n",
    "       'npp_mean', 'nl_mean', 'Battles','Explosions/Remote violence', 'Protests', 'Riots',\n",
    "       'Strategic developments', 'Violence against civilians']]\n",
    "y = geo_social['CS']\n",
    "X_train, X_test, y_train, y_test = train_test_split(X, y, test_size=0.3, random_state=12345)"
   ]
  },
  {
   "cell_type": "markdown",
   "metadata": {},
   "source": [
    "## RFC"
   ]
  },
  {
   "cell_type": "code",
   "execution_count": 148,
   "metadata": {},
   "outputs": [
    {
     "name": "stderr",
     "output_type": "stream",
     "text": [
      "/Users/lavendershenghaozhang/.local/lib/python3.6/site-packages/sklearn/model_selection/_split.py:672: UserWarning: The least populated class in y has only 4 members, which is less than n_splits=5.\n",
      "  % (min_groups, self.n_splits)), UserWarning)\n"
     ]
    },
    {
     "name": "stdout",
     "output_type": "stream",
     "text": [
      "{'classifier__criterion': 'entropy', 'classifier__max_depth': 12, 'classifier__min_samples_leaf': 2, 'classifier__min_samples_split': 8, 'classifier__n_estimators': 200}\n"
     ]
    }
   ],
   "source": [
    "pipeline_rf_gr = Pipeline([('classifier', RandomForestClassifier(random_state = 10))])\n",
    "\n",
    "rf_params = {'classifier__n_estimators':[20, 50, 100, 200],\n",
    "        'classifier__criterion':['gini', 'entropy'],\n",
    "             'classifier__max_depth':[3, 5, 8, 10, 12],\n",
    "             'classifier__min_samples_split':[2, 5, 8,10],\n",
    "             'classifier__min_samples_leaf':[2, 5, 8]}\n",
    "grid_rf = GridSearchCV(pipeline_rf_gr, rf_params, cv=5)\n",
    "\n",
    "grid_rf.fit(X_train, y_train)\n",
    "\n",
    "# Mirror Mirror from GridSearch! Tell me what's the best parameters\n",
    "print(grid_rf.best_params_)"
   ]
  },
  {
   "cell_type": "code",
   "execution_count": 111,
   "metadata": {},
   "outputs": [
    {
     "name": "stdout",
     "output_type": "stream",
     "text": [
      "Accuracy_test: 59.300%  Accuracy_train: 93.941% \n"
     ]
    }
   ],
   "source": [
    "clf=RandomForestClassifier(n_estimators=200, criterion = 'entropy', max_depth=12,\n",
    "                        min_samples_leaf = 2, min_samples_split = 8,\n",
    "                          random_state=10)\n",
    "clf.fit(X_train,y_train)\n",
    "y_pred_train = clf.predict(X_train)\n",
    "y_pred=clf.predict(X_test)\n",
    "print(\"Accuracy_test: %.3f%% \" % (accuracy_score(y_test, y_pred)*100), \n",
    "     \"Accuracy_train: %.3f%% \" % (accuracy_score(y_train, y_pred_train)*100))"
   ]
  },
  {
   "cell_type": "code",
   "execution_count": 112,
   "metadata": {},
   "outputs": [
    {
     "name": "stdout",
     "output_type": "stream",
     "text": [
      "              precision    recall  f1-score   support\n",
      "\n",
      "         1.0       0.67      0.88      0.76       382\n",
      "         2.0       0.43      0.31      0.36       213\n",
      "         3.0       0.48      0.43      0.45       174\n",
      "         4.0       0.74      0.24      0.36        59\n",
      "\n",
      "    accuracy                           0.59       828\n",
      "   macro avg       0.58      0.46      0.48       828\n",
      "weighted avg       0.57      0.59      0.56       828\n",
      "\n"
     ]
    }
   ],
   "source": [
    "test_rp = classification_report(y_test, y_pred)\n",
    "print(test_rp)"
   ]
  },
  {
   "cell_type": "markdown",
   "metadata": {},
   "source": [
    "## XGBoost"
   ]
  },
  {
   "cell_type": "code",
   "execution_count": 113,
   "metadata": {
    "collapsed": true
   },
   "outputs": [],
   "source": [
    "model = XGBClassifier(seed = 10)\n",
    "model.fit(X_train, y_train)\n",
    "# make predictions for test data\n",
    "y_pred_train = model.predict(X_train)\n",
    "y_pred= model.predict(X_test)"
   ]
  },
  {
   "cell_type": "code",
   "execution_count": 114,
   "metadata": {},
   "outputs": [
    {
     "name": "stdout",
     "output_type": "stream",
     "text": [
      "Accuracy_test: 56.763%  Accuracy_train: 72.605% \n"
     ]
    }
   ],
   "source": [
    "print(\"Accuracy_test: %.3f%% \" % (accuracy_score(y_test, y_pred)*100), \n",
    "     \"Accuracy_train: %.3f%% \" % (accuracy_score(y_train, y_pred_train)*100))"
   ]
  },
  {
   "cell_type": "code",
   "execution_count": 115,
   "metadata": {
    "collapsed": true
   },
   "outputs": [],
   "source": [
    "## Tuning XGBoost\n",
    "model = XGBClassifier(n_estimators = 50, objective='multi:softprob', subsample = 0.5,\n",
    "            max_depth = 6, seed = 10)\n",
    "model.fit(X_train, y_train)\n",
    "# make predictions for test data\n",
    "y_pred_train = model.predict(X_train)\n",
    "y_pred= model.predict(X_test)"
   ]
  },
  {
   "cell_type": "code",
   "execution_count": 116,
   "metadata": {},
   "outputs": [
    {
     "name": "stdout",
     "output_type": "stream",
     "text": [
      "Accuracy_test: 59.420%  Accuracy_train: 88.659% \n"
     ]
    }
   ],
   "source": [
    "print(\"Accuracy_test: %.3f%% \" % (accuracy_score(y_test, y_pred)*100), \n",
    "     \"Accuracy_train: %.3f%% \" % (accuracy_score(y_train, y_pred_train)*100))"
   ]
  },
  {
   "cell_type": "markdown",
   "metadata": {},
   "source": [
    "# Third Model - combining categories"
   ]
  },
  {
   "cell_type": "markdown",
   "metadata": {},
   "source": [
    "## 3 Categories"
   ]
  },
  {
   "cell_type": "code",
   "execution_count": 27,
   "metadata": {},
   "outputs": [
    {
     "data": {
      "text/plain": [
       "1.0    1262\n",
       "2.0     751\n",
       "3.0     746\n",
       "Name: CS_3, dtype: int64"
      ]
     },
     "execution_count": 27,
     "metadata": {},
     "output_type": "execute_result"
    }
   ],
   "source": [
    "geo_social['CS_4'] = geo_social['CS'].replace(5, 4)\n",
    "geo_social['CS_3'] = geo_social['CS_4'].replace(4, 3)\n",
    "geo_social['CS_3'].value_counts()"
   ]
  },
  {
   "cell_type": "code",
   "execution_count": 118,
   "metadata": {
    "collapsed": true
   },
   "outputs": [],
   "source": [
    "X = geo_social[['Evap_tavg_',\n",
    "       'Lwnet_tavg',  'Qair_f_tavg',\n",
    "        'Qh_tavg', \n",
    "       'Qs_tavg',   'Rainf_f_tavg', \n",
    "       'SoilMoi00_10cm_tavg', 'Swnet_tavg', \n",
    "       'Tair_f_tavg', 'Wind_f_tavg', 'ozone_mean',\n",
    "       'npp_mean', 'nl_mean', 'Battles','Explosions/Remote violence', 'Protests', 'Riots',\n",
    "       'Strategic developments', 'Violence against civilians']]\n",
    "y = geo_social['CS_3']\n",
    "X_train, X_test, y_train, y_test = train_test_split(X, y, test_size=0.3, random_state=12345)"
   ]
  },
  {
   "cell_type": "code",
   "execution_count": 119,
   "metadata": {
    "collapsed": true
   },
   "outputs": [],
   "source": [
    "## Tuning XGBoost\n",
    "model = XGBClassifier(n_estimators = 50, objective='multi:softprob', subsample = 0.5,\n",
    "            max_depth = 6, seed = 10)\n",
    "model.fit(X_train, y_train)\n",
    "# make predictions for test data\n",
    "y_pred_train = model.predict(X_train)\n",
    "y_pred= model.predict(X_test)"
   ]
  },
  {
   "cell_type": "code",
   "execution_count": 120,
   "metadata": {},
   "outputs": [
    {
     "name": "stdout",
     "output_type": "stream",
     "text": [
      "Accuracy_test: 65.217%  Accuracy_train: 89.746% \n"
     ]
    }
   ],
   "source": [
    "print(\"Accuracy_test: %.3f%% \" % (accuracy_score(y_test, y_pred)*100), \n",
    "     \"Accuracy_train: %.3f%% \" % (accuracy_score(y_train, y_pred_train)*100))"
   ]
  },
  {
   "cell_type": "markdown",
   "metadata": {},
   "source": [
    "## 2 Categories"
   ]
  },
  {
   "cell_type": "code",
   "execution_count": 28,
   "metadata": {},
   "outputs": [
    {
     "data": {
      "text/plain": [
       "2.0    2013\n",
       "3.0     746\n",
       "Name: CS_2, dtype: int64"
      ]
     },
     "execution_count": 28,
     "metadata": {},
     "output_type": "execute_result"
    }
   ],
   "source": [
    "geo_social['CS_2'] = geo_social['CS_3'].replace(1, 2)\n",
    "geo_social['CS_2'].value_counts()"
   ]
  },
  {
   "cell_type": "code",
   "execution_count": 29,
   "metadata": {
    "collapsed": true
   },
   "outputs": [],
   "source": [
    "X = geo_social[['Evap_tavg_',\n",
    "       'Lwnet_tavg',  'Qair_f_tavg',\n",
    "        'Qh_tavg', \n",
    "       'Qs_tavg',   'Rainf_f_tavg', \n",
    "       'SoilMoi00_10cm_tavg', 'Swnet_tavg', \n",
    "       'Tair_f_tavg', 'Wind_f_tavg', 'ozone_mean',\n",
    "       'npp_mean', 'nl_mean', 'Battles','Explosions/Remote violence', 'Protests', 'Riots',\n",
    "       'Strategic developments', 'Violence against civilians']]\n",
    "y = geo_social['CS_2']\n",
    "X_train, X_test, y_train, y_test = train_test_split(X, y, test_size=0.3, random_state=12345)"
   ]
  },
  {
   "cell_type": "markdown",
   "metadata": {},
   "source": [
    "## RFC"
   ]
  },
  {
   "cell_type": "code",
   "execution_count": 185,
   "metadata": {},
   "outputs": [
    {
     "name": "stdout",
     "output_type": "stream",
     "text": [
      "{'classifier__criterion': 'gini', 'classifier__max_depth': 12, 'classifier__min_samples_leaf': 2, 'classifier__min_samples_split': 2, 'classifier__n_estimators': 200}\n"
     ]
    }
   ],
   "source": [
    "pipeline_rf_gr = Pipeline([('classifier', RandomForestClassifier(random_state = 10))])\n",
    "\n",
    "rf_params = {'classifier__n_estimators':[20, 50, 100, 200],\n",
    "        'classifier__criterion':['gini', 'entropy'],\n",
    "             'classifier__max_depth':[3, 5, 8, 10, 12],\n",
    "             'classifier__min_samples_split':[2, 5, 8,10],\n",
    "             'classifier__min_samples_leaf':[2, 5, 8]}\n",
    "grid_rf = GridSearchCV(pipeline_rf_gr, rf_params, cv=5)\n",
    "\n",
    "grid_rf.fit(X_train, y_train)\n",
    "\n",
    "# Mirror Mirror from GridSearch! Tell me what's the best parameters\n",
    "print(grid_rf.best_params_)"
   ]
  },
  {
   "cell_type": "code",
   "execution_count": 123,
   "metadata": {},
   "outputs": [
    {
     "name": "stdout",
     "output_type": "stream",
     "text": [
      "Accuracy_test: 81.643%  Accuracy_train: 92.595% \n"
     ]
    }
   ],
   "source": [
    "clf=RandomForestClassifier(n_estimators=100, criterion = 'gini', max_depth=10,\n",
    "                        min_samples_leaf = 2, min_samples_split = 2,\n",
    "                          random_state=10)\n",
    "clf.fit(X_train,y_train)\n",
    "y_pred_train = clf.predict(X_train)\n",
    "y_pred=clf.predict(X_test)\n",
    "print(\"Accuracy_test: %.3f%% \" % (accuracy_score(y_test, y_pred)*100), \n",
    "     \"Accuracy_train: %.3f%% \" % (accuracy_score(y_train, y_pred_train)*100))"
   ]
  },
  {
   "cell_type": "markdown",
   "metadata": {},
   "source": [
    "## XGBoost"
   ]
  },
  {
   "cell_type": "code",
   "execution_count": 154,
   "metadata": {
    "collapsed": true
   },
   "outputs": [],
   "source": [
    "## Tuning XGBoost\n",
    "model = XGBClassifier(n_estimators = 30, objective='binary:logistic', subsample = 0.55,\n",
    "            max_depth = 5, seed = 10)\n",
    "model.fit(X_train, y_train)\n",
    "# make predictions for test data\n",
    "y_pred_train = model.predict(X_train)\n",
    "y_pred= model.predict(X_test)"
   ]
  },
  {
   "cell_type": "code",
   "execution_count": 155,
   "metadata": {},
   "outputs": [
    {
     "name": "stdout",
     "output_type": "stream",
     "text": [
      "Accuracy_test: 80.435%  Accuracy_train: 87.934%  Overfitting: -7.499% \n"
     ]
    }
   ],
   "source": [
    "print(\"Accuracy_test: %.3f%% \" % (accuracy_score(y_test, y_pred)*100), \n",
    "     \"Accuracy_train: %.3f%% \" % (accuracy_score(y_train, y_pred_train)*100),\n",
    "'Overfitting: %.3f%% ' % ((accuracy_score(y_test, y_pred)*100)-(accuracy_score(y_train, y_pred_train)*100)))"
   ]
  },
  {
   "cell_type": "code",
   "execution_count": 67,
   "metadata": {
    "collapsed": true
   },
   "outputs": [],
   "source": [
    "## Adding fatalities\n",
    "counts_f = pd.DataFrame(df.groupby(['admin1','ADM1_CODE', 'Start',\n",
    "        'End', 'CS'])['fatalities'].sum()).reset_index()"
   ]
  },
  {
   "cell_type": "code",
   "execution_count": 68,
   "metadata": {},
   "outputs": [],
   "source": [
    "geo_social_f = pd.merge(geo_social, counts_f, on=['ADM1_CODE',  'End'], how='left')"
   ]
  },
  {
   "cell_type": "code",
   "execution_count": 69,
   "metadata": {},
   "outputs": [],
   "source": [
    "X = geo_social_f[['Evap_tavg_',\n",
    "       'Lwnet_tavg',  'Qair_f_tavg',\n",
    "        'Qh_tavg', \n",
    "       'Qs_tavg',   'Rainf_f_tavg', \n",
    "       'SoilMoi00_10cm_tavg', 'Swnet_tavg', \n",
    "       'Tair_f_tavg', 'Wind_f_tavg', 'ozone_mean',\n",
    "       'npp_mean', 'nl_mean', 'Battles','Explosions/Remote violence', 'Protests', 'Riots',\n",
    "       'Strategic developments', 'Violence against civilians', 'fatalities']]\n",
    "y = geo_social_f['CS_2']\n",
    "X_train, X_test, y_train, y_test = train_test_split(X, y, test_size=0.3, random_state=12345)"
   ]
  },
  {
   "cell_type": "code",
   "execution_count": 84,
   "metadata": {
    "collapsed": true
   },
   "outputs": [],
   "source": [
    "## Tuning XGBoost\n",
    "model = XGBClassifier(n_estimators = 70, objective='binary:logistic', subsample = 0.5,\n",
    "            max_depth = 3, seed = 10)\n",
    "model.fit(X_train, y_train)\n",
    "# make predictions for test data\n",
    "y_pred_train = model.predict(X_train)\n",
    "y_pred= model.predict(X_test)"
   ]
  },
  {
   "cell_type": "code",
   "execution_count": 85,
   "metadata": {},
   "outputs": [
    {
     "name": "stdout",
     "output_type": "stream",
     "text": [
      "Accuracy_test: 80.435%  Accuracy_train: 85.966% \n"
     ]
    }
   ],
   "source": [
    "print(\"Accuracy_test: %.3f%% \" % (accuracy_score(y_test, y_pred)*100), \n",
    "     \"Accuracy_train: %.3f%% \" % (accuracy_score(y_train, y_pred_train)*100))"
   ]
  },
  {
   "cell_type": "markdown",
   "metadata": {},
   "source": [
    "# Fourth Model - adding notes from social conflicts"
   ]
  },
  {
   "cell_type": "code",
   "execution_count": 83,
   "metadata": {},
   "outputs": [
    {
     "name": "stderr",
     "output_type": "stream",
     "text": [
      "/Applications/anaconda3/envs/learn-env/lib/python3.6/site-packages/ipykernel_launcher.py:1: SettingWithCopyWarning: \n",
      "A value is trying to be set on a copy of a slice from a DataFrame.\n",
      "Try using .loc[row_indexer,col_indexer] = value instead\n",
      "\n",
      "See the caveats in the documentation: http://pandas.pydata.org/pandas-docs/stable/user_guide/indexing.html#returning-a-view-versus-a-copy\n",
      "  \"\"\"Entry point for launching an IPython kernel.\n"
     ]
    }
   ],
   "source": [
    "df['notes'] = df['notes'].fillna('In {}, none'.format(df['year']))"
   ]
  },
  {
   "cell_type": "code",
   "execution_count": 84,
   "metadata": {},
   "outputs": [
    {
     "name": "stderr",
     "output_type": "stream",
     "text": [
      "/Applications/anaconda3/envs/learn-env/lib/python3.6/site-packages/ipykernel_launcher.py:4: SettingWithCopyWarning: \n",
      "A value is trying to be set on a copy of a slice from a DataFrame.\n",
      "Try using .loc[row_indexer,col_indexer] = value instead\n",
      "\n",
      "See the caveats in the documentation: http://pandas.pydata.org/pandas-docs/stable/user_guide/indexing.html#returning-a-view-versus-a-copy\n",
      "  after removing the cwd from sys.path.\n",
      "/Applications/anaconda3/envs/learn-env/lib/python3.6/site-packages/ipykernel_launcher.py:7: SettingWithCopyWarning: \n",
      "A value is trying to be set on a copy of a slice from a DataFrame\n",
      "\n",
      "See the caveats in the documentation: http://pandas.pydata.org/pandas-docs/stable/user_guide/indexing.html#returning-a-view-versus-a-copy\n",
      "  import sys\n",
      "/Applications/anaconda3/envs/learn-env/lib/python3.6/site-packages/IPython/core/interactiveshell.py:3326: SettingWithCopyWarning: \n",
      "A value is trying to be set on a copy of a slice from a DataFrame\n",
      "\n",
      "See the caveats in the documentation: http://pandas.pydata.org/pandas-docs/stable/user_guide/indexing.html#returning-a-view-versus-a-copy\n",
      "  exec(code_obj, self.user_global_ns, self.user_ns)\n"
     ]
    }
   ],
   "source": [
    "# The notes start with date\n",
    "# This is not very relevant to NLP\n",
    "# Get rid of that \n",
    "df['note_new'] = 'notes'\n",
    "for i in range(len(df)):\n",
    "    try:\n",
    "        df['note_new'][i] = df['notes'][i].split('{}'.format(df.year[i]))[1]\n",
    "    except IndexError:\n",
    "        continue"
   ]
  },
  {
   "cell_type": "code",
   "execution_count": 85,
   "metadata": {},
   "outputs": [
    {
     "name": "stderr",
     "output_type": "stream",
     "text": [
      "/Applications/anaconda3/envs/learn-env/lib/python3.6/site-packages/ipykernel_launcher.py:2: SettingWithCopyWarning: \n",
      "A value is trying to be set on a copy of a slice from a DataFrame.\n",
      "Try using .loc[row_indexer,col_indexer] = value instead\n",
      "\n",
      "See the caveats in the documentation: http://pandas.pydata.org/pandas-docs/stable/user_guide/indexing.html#returning-a-view-versus-a-copy\n",
      "  \n"
     ]
    }
   ],
   "source": [
    "# Combining, Actor 1, Actor 2, and notes together\n",
    "df['event_des'] = df['actor_1'] + \", \" + df['actor_2'] + df['note_new']"
   ]
  },
  {
   "cell_type": "code",
   "execution_count": 86,
   "metadata": {
    "collapsed": true
   },
   "outputs": [],
   "source": [
    "## Group to get all the text in one column\n",
    "text_agg = pd.DataFrame(df.groupby(['ADM1_CODE', 'Start', 'End'])['event_des'].apply(lambda x: '; '.join(x))).reset_index()"
   ]
  },
  {
   "cell_type": "code",
   "execution_count": 87,
   "metadata": {},
   "outputs": [
    {
     "name": "stdout",
     "output_type": "stream",
     "text": [
      "<class 'pandas.core.frame.DataFrame'>\n",
      "RangeIndex: 2759 entries, 0 to 2758\n",
      "Data columns (total 4 columns):\n",
      "ADM1_CODE    2759 non-null int64\n",
      "Start        2759 non-null object\n",
      "End          2759 non-null object\n",
      "event_des    2759 non-null object\n",
      "dtypes: int64(1), object(3)\n",
      "memory usage: 86.3+ KB\n"
     ]
    }
   ],
   "source": [
    "text_agg.info()"
   ]
  },
  {
   "cell_type": "code",
   "execution_count": 88,
   "metadata": {
    "collapsed": true
   },
   "outputs": [],
   "source": [
    "## Joinin the phys data\n",
    "geo_social_ = pd.merge(counts_pivot, phys, on=['ADM1_CODE', 'Start', 'End'], how='left')"
   ]
  },
  {
   "cell_type": "code",
   "execution_count": 89,
   "metadata": {
    "collapsed": true
   },
   "outputs": [],
   "source": [
    "stopwords = nltk.corpus.stopwords.words('english')\n",
    "lemma = WordNetLemmatizer()"
   ]
  },
  {
   "cell_type": "code",
   "execution_count": 90,
   "metadata": {
    "collapsed": true
   },
   "outputs": [],
   "source": [
    "def note_text_lemma(reviewText):\n",
    "    reviews = \"\".join([w for w in reviewText if w not in string.punctuation])\n",
    "    tokens = re.split('\\W+', reviews)\n",
    "    review_clean = [lemma.lemmatize(ws) for ws in tokens if ws not in stopwords]\n",
    "    return review_clean"
   ]
  },
  {
   "cell_type": "code",
   "execution_count": 91,
   "metadata": {
    "collapsed": true
   },
   "outputs": [],
   "source": [
    "text_agg['event_des_lem'] = text_agg['event_des'].apply(lambda x: note_text_lemma(str(x).lower()))"
   ]
  },
  {
   "cell_type": "code",
   "execution_count": 92,
   "metadata": {
    "collapsed": true
   },
   "outputs": [],
   "source": [
    "# TF-IDF Vectorizer\n",
    "tfidf = TfidfVectorizer()\n",
    "X_part_des = tfidf.fit_transform(text_agg['event_des']).toarray()\n",
    "event_des_df = pd.DataFrame(X_part_des)"
   ]
  },
  {
   "cell_type": "code",
   "execution_count": 93,
   "metadata": {
    "collapsed": true
   },
   "outputs": [],
   "source": [
    "geo_social_text = pd.merge(geo_social_, text_agg, on=['ADM1_CODE', 'Start', 'End'], how='left')"
   ]
  },
  {
   "cell_type": "code",
   "execution_count": 95,
   "metadata": {
    "collapsed": true
   },
   "outputs": [],
   "source": [
    "geo_social_text1 = geo_social_text[['CS', 'Evap_tavg_',  'Lwnet_tavg',\n",
    "        'Qair_f_tavg', 'Qh_tavg',\n",
    "       'Qh_tavg_std',   'Qs_tavg', \n",
    "       'Rainf_f_tavg',  'SoilMoi00_10cm_tavg',\n",
    "      'Swnet_tavg', \n",
    "       'Tair_f_tavg',  'Wind_f_tavg', \n",
    "       'ozone_mean',  'npp_mean',  'nl_mean', 'Battles',\n",
    "       'Explosions/Remote violence', 'Protests', 'Riots',\n",
    "       'Strategic developments', 'Violence against civilians']]"
   ]
  },
  {
   "cell_type": "code",
   "execution_count": 96,
   "metadata": {
    "collapsed": true
   },
   "outputs": [],
   "source": [
    "geo_social_mod = geo_social_text1.join(event_des_df)"
   ]
  },
  {
   "cell_type": "code",
   "execution_count": 97,
   "metadata": {},
   "outputs": [
    {
     "data": {
      "text/html": [
       "<div>\n",
       "<style scoped>\n",
       "    .dataframe tbody tr th:only-of-type {\n",
       "        vertical-align: middle;\n",
       "    }\n",
       "\n",
       "    .dataframe tbody tr th {\n",
       "        vertical-align: top;\n",
       "    }\n",
       "\n",
       "    .dataframe thead th {\n",
       "        text-align: right;\n",
       "    }\n",
       "</style>\n",
       "<table border=\"1\" class=\"dataframe\">\n",
       "  <thead>\n",
       "    <tr style=\"text-align: right;\">\n",
       "      <th></th>\n",
       "      <th>CS</th>\n",
       "      <th>Evap_tavg_</th>\n",
       "      <th>Lwnet_tavg</th>\n",
       "      <th>Qair_f_tavg</th>\n",
       "      <th>Qh_tavg</th>\n",
       "      <th>Qh_tavg_std</th>\n",
       "      <th>Qs_tavg</th>\n",
       "      <th>Rainf_f_tavg</th>\n",
       "      <th>SoilMoi00_10cm_tavg</th>\n",
       "      <th>Swnet_tavg</th>\n",
       "      <th>...</th>\n",
       "      <th>12789</th>\n",
       "      <th>12790</th>\n",
       "      <th>12791</th>\n",
       "      <th>12792</th>\n",
       "      <th>12793</th>\n",
       "      <th>12794</th>\n",
       "      <th>12795</th>\n",
       "      <th>12796</th>\n",
       "      <th>12797</th>\n",
       "      <th>12798</th>\n",
       "    </tr>\n",
       "  </thead>\n",
       "  <tbody>\n",
       "    <tr>\n",
       "      <th>0</th>\n",
       "      <td>2.0</td>\n",
       "      <td>1.0</td>\n",
       "      <td>-56.424135</td>\n",
       "      <td>0.017095</td>\n",
       "      <td>88.652784</td>\n",
       "      <td>24.864057</td>\n",
       "      <td>4.146653e-06</td>\n",
       "      <td>0.000021</td>\n",
       "      <td>0.276339</td>\n",
       "      <td>174.734430</td>\n",
       "      <td>...</td>\n",
       "      <td>0.0</td>\n",
       "      <td>0.0</td>\n",
       "      <td>0.0</td>\n",
       "      <td>0.0</td>\n",
       "      <td>0.0</td>\n",
       "      <td>0.0</td>\n",
       "      <td>0.0</td>\n",
       "      <td>0.0</td>\n",
       "      <td>0.0</td>\n",
       "      <td>0.0</td>\n",
       "    </tr>\n",
       "    <tr>\n",
       "      <th>1</th>\n",
       "      <td>4.0</td>\n",
       "      <td>1.0</td>\n",
       "      <td>-58.126933</td>\n",
       "      <td>0.015241</td>\n",
       "      <td>13.913670</td>\n",
       "      <td>11.916337</td>\n",
       "      <td>3.834063e-06</td>\n",
       "      <td>0.000065</td>\n",
       "      <td>0.031368</td>\n",
       "      <td>170.479231</td>\n",
       "      <td>...</td>\n",
       "      <td>0.0</td>\n",
       "      <td>0.0</td>\n",
       "      <td>0.0</td>\n",
       "      <td>0.0</td>\n",
       "      <td>0.0</td>\n",
       "      <td>0.0</td>\n",
       "      <td>0.0</td>\n",
       "      <td>0.0</td>\n",
       "      <td>0.0</td>\n",
       "      <td>0.0</td>\n",
       "    </tr>\n",
       "    <tr>\n",
       "      <th>2</th>\n",
       "      <td>2.0</td>\n",
       "      <td>1.0</td>\n",
       "      <td>-52.931726</td>\n",
       "      <td>0.017710</td>\n",
       "      <td>84.518220</td>\n",
       "      <td>19.534504</td>\n",
       "      <td>1.144371e-06</td>\n",
       "      <td>0.000015</td>\n",
       "      <td>0.268002</td>\n",
       "      <td>160.194757</td>\n",
       "      <td>...</td>\n",
       "      <td>0.0</td>\n",
       "      <td>0.0</td>\n",
       "      <td>0.0</td>\n",
       "      <td>0.0</td>\n",
       "      <td>0.0</td>\n",
       "      <td>0.0</td>\n",
       "      <td>0.0</td>\n",
       "      <td>0.0</td>\n",
       "      <td>0.0</td>\n",
       "      <td>0.0</td>\n",
       "    </tr>\n",
       "    <tr>\n",
       "      <th>3</th>\n",
       "      <td>2.0</td>\n",
       "      <td>1.0</td>\n",
       "      <td>-66.171690</td>\n",
       "      <td>0.014467</td>\n",
       "      <td>133.372937</td>\n",
       "      <td>10.894519</td>\n",
       "      <td>8.672760e-07</td>\n",
       "      <td>0.000010</td>\n",
       "      <td>0.113308</td>\n",
       "      <td>212.950087</td>\n",
       "      <td>...</td>\n",
       "      <td>0.0</td>\n",
       "      <td>0.0</td>\n",
       "      <td>0.0</td>\n",
       "      <td>0.0</td>\n",
       "      <td>0.0</td>\n",
       "      <td>0.0</td>\n",
       "      <td>0.0</td>\n",
       "      <td>0.0</td>\n",
       "      <td>0.0</td>\n",
       "      <td>0.0</td>\n",
       "    </tr>\n",
       "    <tr>\n",
       "      <th>4</th>\n",
       "      <td>4.0</td>\n",
       "      <td>1.0</td>\n",
       "      <td>-56.519306</td>\n",
       "      <td>0.017776</td>\n",
       "      <td>100.221937</td>\n",
       "      <td>16.497474</td>\n",
       "      <td>7.315361e-06</td>\n",
       "      <td>0.000022</td>\n",
       "      <td>0.256218</td>\n",
       "      <td>176.649513</td>\n",
       "      <td>...</td>\n",
       "      <td>0.0</td>\n",
       "      <td>0.0</td>\n",
       "      <td>0.0</td>\n",
       "      <td>0.0</td>\n",
       "      <td>0.0</td>\n",
       "      <td>0.0</td>\n",
       "      <td>0.0</td>\n",
       "      <td>0.0</td>\n",
       "      <td>0.0</td>\n",
       "      <td>0.0</td>\n",
       "    </tr>\n",
       "  </tbody>\n",
       "</table>\n",
       "<p>5 rows × 12820 columns</p>\n",
       "</div>"
      ],
      "text/plain": [
       "    CS  Evap_tavg_  Lwnet_tavg  Qair_f_tavg     Qh_tavg  Qh_tavg_std  \\\n",
       "0  2.0         1.0  -56.424135     0.017095   88.652784    24.864057   \n",
       "1  4.0         1.0  -58.126933     0.015241   13.913670    11.916337   \n",
       "2  2.0         1.0  -52.931726     0.017710   84.518220    19.534504   \n",
       "3  2.0         1.0  -66.171690     0.014467  133.372937    10.894519   \n",
       "4  4.0         1.0  -56.519306     0.017776  100.221937    16.497474   \n",
       "\n",
       "        Qs_tavg  Rainf_f_tavg  SoilMoi00_10cm_tavg  Swnet_tavg  ...  12789  \\\n",
       "0  4.146653e-06      0.000021             0.276339  174.734430  ...    0.0   \n",
       "1  3.834063e-06      0.000065             0.031368  170.479231  ...    0.0   \n",
       "2  1.144371e-06      0.000015             0.268002  160.194757  ...    0.0   \n",
       "3  8.672760e-07      0.000010             0.113308  212.950087  ...    0.0   \n",
       "4  7.315361e-06      0.000022             0.256218  176.649513  ...    0.0   \n",
       "\n",
       "   12790  12791  12792  12793  12794  12795  12796  12797  12798  \n",
       "0    0.0    0.0    0.0    0.0    0.0    0.0    0.0    0.0    0.0  \n",
       "1    0.0    0.0    0.0    0.0    0.0    0.0    0.0    0.0    0.0  \n",
       "2    0.0    0.0    0.0    0.0    0.0    0.0    0.0    0.0    0.0  \n",
       "3    0.0    0.0    0.0    0.0    0.0    0.0    0.0    0.0    0.0  \n",
       "4    0.0    0.0    0.0    0.0    0.0    0.0    0.0    0.0    0.0  \n",
       "\n",
       "[5 rows x 12820 columns]"
      ]
     },
     "execution_count": 97,
     "metadata": {},
     "output_type": "execute_result"
    }
   ],
   "source": [
    "geo_social_mod.head()"
   ]
  },
  {
   "cell_type": "code",
   "execution_count": 98,
   "metadata": {
    "collapsed": true
   },
   "outputs": [],
   "source": [
    "geo_social_mod['CS_2'] = geo_social_mod['CS'].replace(5, 3)\n",
    "geo_social_mod['CS_2'] = geo_social_mod['CS'].replace(4, 3)\n",
    "geo_social_mod['CS_2'] = geo_social_mod['CS'].replace(1, 2)"
   ]
  },
  {
   "cell_type": "code",
   "execution_count": 99,
   "metadata": {
    "collapsed": true
   },
   "outputs": [],
   "source": [
    "X_mod = geo_social_mod.drop(['CS', 'CS_2'], axis=1)\n",
    "y = geo_social_mod['CS_2']\n",
    "X_train, X_test, y_train, y_test = train_test_split(X_mod, y, test_size=0.3, random_state=12345)"
   ]
  },
  {
   "cell_type": "code",
   "execution_count": 100,
   "metadata": {
    "collapsed": true
   },
   "outputs": [],
   "source": [
    "## Tuning XGBoost\n",
    "model = XGBClassifier(n_estimators = 50, objective='binary:logistic', subsample = 0.55,\n",
    "            max_depth = 5, seed = 10)\n",
    "model.fit(X_train, y_train)\n",
    "# make predictions for test data\n",
    "y_pred_train = model.predict(X_train)\n",
    "y_pred= model.predict(X_test)"
   ]
  },
  {
   "cell_type": "code",
   "execution_count": 101,
   "metadata": {},
   "outputs": [
    {
     "name": "stdout",
     "output_type": "stream",
     "text": [
      "Accuracy_test: 75.725%  Accuracy_train: 90.678% \n"
     ]
    }
   ],
   "source": [
    "print(\"Accuracy_test: %.3f%% \" % (accuracy_score(y_test, y_pred)*100), \n",
    "     \"Accuracy_train: %.3f%% \" % (accuracy_score(y_train, y_pred_train)*100))"
   ]
  },
  {
   "cell_type": "markdown",
   "metadata": {},
   "source": [
    "# With Social Data - winner tunning"
   ]
  },
  {
   "cell_type": "code",
   "execution_count": 343,
   "metadata": {
    "collapsed": true
   },
   "outputs": [],
   "source": [
    "X = geo_social[['Evap_tavg_',\n",
    "       'Lwnet_tavg',  'Qair_f_tavg',\n",
    "        'Qh_tavg', \n",
    "       'Qs_tavg',   'Rainf_f_tavg', \n",
    "       'SoilMoi00_10cm_tavg', 'Swnet_tavg', \n",
    "       'Tair_f_tavg', 'Wind_f_tavg', 'ozone_mean',\n",
    "       'npp_mean', 'nl_mean', 'Battles','Explosions/Remote violence', 'Protests', 'Riots',\n",
    "       'Strategic developments', 'Violence against civilians']]\n",
    "y = geo_social['CS_2']\n",
    "X_train, X_test, y_train, y_test = train_test_split(X, y, test_size=0.3, random_state=12345)"
   ]
  },
  {
   "cell_type": "code",
   "execution_count": 41,
   "metadata": {},
   "outputs": [
    {
     "name": "stdout",
     "output_type": "stream",
     "text": [
      "{'classifier__criterion': 'gini', 'classifier__max_depth': 10, 'classifier__min_samples_leaf': 2, 'classifier__min_samples_split': 2, 'classifier__n_estimators': 50}\n"
     ]
    }
   ],
   "source": [
    "# RFC tunning\n",
    "pipeline_rf_gr = Pipeline([('classifier', RandomForestClassifier(random_state = 10))])\n",
    "\n",
    "rf_params = {'classifier__n_estimators':[20, 50, 100, 200],\n",
    "        'classifier__criterion':['gini', 'entropy'],\n",
    "             'classifier__max_depth':[5, 6, 7, 8, 10],\n",
    "             'classifier__min_samples_split':[2, 3,4, 5],\n",
    "             'classifier__min_samples_leaf':[2,3, 4, 5]}\n",
    "grid_rf = GridSearchCV(pipeline_rf_gr, rf_params, cv=5)\n",
    "\n",
    "grid_rf.fit(X_train, y_train)\n",
    "\n",
    "# Mirror Mirror from GridSearch! Tell me what's the best parameters\n",
    "print(grid_rf.best_params_)"
   ]
  },
  {
   "cell_type": "code",
   "execution_count": 166,
   "metadata": {},
   "outputs": [
    {
     "name": "stdout",
     "output_type": "stream",
     "text": [
      "Accuracy_test: 81.280%  Accuracy_train: 95.339% \n"
     ]
    }
   ],
   "source": [
    "clf=RandomForestClassifier(n_estimators=100, criterion = 'gini', max_depth=12,\n",
    "                        min_samples_leaf = 2, min_samples_split = 5,\n",
    "                          random_state=10)\n",
    "clf.fit(X_train,y_train)\n",
    "y_pred_train = clf.predict(X_train)\n",
    "y_pred=clf.predict(X_test)\n",
    "print(\"Accuracy_test: %.3f%% \" % (accuracy_score(y_test, y_pred)*100), \n",
    "     \"Accuracy_train: %.3f%% \" % (accuracy_score(y_train, y_pred_train)*100))"
   ]
  },
  {
   "cell_type": "code",
   "execution_count": 176,
   "metadata": {},
   "outputs": [
    {
     "name": "stdout",
     "output_type": "stream",
     "text": [
      "Accuracy_test: 80.556%  Accuracy_train: 85.655%  Overfitting: -5.100%\n"
     ]
    }
   ],
   "source": [
    "# tunning RFC\n",
    "clf=RandomForestClassifier(n_estimators=105, criterion = 'gini', max_depth= 7,\n",
    "                        min_samples_leaf = 4, min_samples_split = 2,\n",
    "                          random_state=10)\n",
    "clf.fit(X_train,y_train)\n",
    "y_pred_train = clf.predict(X_train)\n",
    "y_pred=clf.predict(X_test)\n",
    "print(\"Accuracy_test: %.3f%% \" % (accuracy_score(y_test, y_pred)*100), \n",
    "     \"Accuracy_train: %.3f%% \" % (accuracy_score(y_train, y_pred_train)*100),\n",
    "     'Overfitting: %.3f%%'% ((accuracy_score(y_test, y_pred)*100) - (accuracy_score(y_train, y_pred_train)*100)))"
   ]
  },
  {
   "cell_type": "code",
   "execution_count": 344,
   "metadata": {},
   "outputs": [
    {
     "name": "stdout",
     "output_type": "stream",
     "text": [
      "Accuracy_test: 80.797%  Accuracy_train: 84.982%  Overfitting: -4.185%\n"
     ]
    }
   ],
   "source": [
    "# XGBoost Tunning\n",
    "model = XGBClassifier(n_estimators = 60, objective='binary:logistic', subsample = 0.5,\n",
    "                      tree_method = 'exact', grow_policy = 'lossguide',\n",
    "                      sampling_method = 'gradient_based', min_child_weight = 0.1,\n",
    "            max_depth = 3, seed = 10)\n",
    "model.fit(X_train, y_train)\n",
    "# make predictions for test data\n",
    "y_pred_train = model.predict(X_train)\n",
    "y_pred= model.predict(X_test)\n",
    "print(\"Accuracy_test: %.3f%% \" % (accuracy_score(y_test, y_pred)*100), \n",
    "     \"Accuracy_train: %.3f%% \" % (accuracy_score(y_train, y_pred_train)*100),\n",
    "     'Overfitting: %.3f%%'% ((accuracy_score(y_test, y_pred)*100) - (accuracy_score(y_train, y_pred_train)*100)))"
   ]
  },
  {
   "cell_type": "markdown",
   "metadata": {},
   "source": [
    "## Feature Importance"
   ]
  },
  {
   "cell_type": "code",
   "execution_count": 345,
   "metadata": {},
   "outputs": [
    {
     "data": {
      "text/plain": [
       "<matplotlib.axes._subplots.AxesSubplot at 0x15bb9ba20>"
      ]
     },
     "execution_count": 345,
     "metadata": {},
     "output_type": "execute_result"
    },
    {
     "data": {
      "image/png": "[encoded data removed]",
      "text/plain": [
       "<Figure size 432x288 with 1 Axes>"
      ]
     },
     "metadata": {
      "needs_background": "light"
     },
     "output_type": "display_data"
    }
   ],
   "source": [
    "xgboost.plot_importance(model, max_num_features=18)"
   ]
  },
  {
   "cell_type": "markdown",
   "metadata": {},
   "source": [
    "## Permutation Importance"
   ]
  },
  {
   "cell_type": "code",
   "execution_count": 352,
   "metadata": {},
   "outputs": [
    {
     "data": {
      "image/png": "[encoded data removed]",
      "text/plain": [
       "<Figure size 1080x720 with 1 Axes>"
      ]
     },
     "metadata": {
      "needs_background": "light"
     },
     "output_type": "display_data"
    }
   ],
   "source": [
    "result = permutation_importance(model, X_test, y_test, n_repeats=10,\n",
    "                                random_state=42, n_jobs=2)\n",
    "sorted_idx = result.importances_mean.argsort()\n",
    "\n",
    "fig, ax = plt.subplots(figsize=(15, 10))\n",
    "ax.boxplot(result.importances[sorted_idx].T,\n",
    "           vert=False, labels=X_test.columns[sorted_idx])\n",
    "ax.set_title(\"Permutation Importances - test\")\n",
    "fig.tight_layout()"
   ]
  },
  {
   "cell_type": "markdown",
   "metadata": {},
   "source": [
    "### Removing Negative Variables\n",
    "Removing Protests and Explosions/Remote violence"
   ]
  },
  {
   "cell_type": "code",
   "execution_count": 105,
   "metadata": {
    "collapsed": true
   },
   "outputs": [],
   "source": [
    "X = geo_social[['Evap_tavg_',\n",
    "       'Lwnet_tavg',  'Qair_f_tavg',\n",
    "        'Qh_tavg', \n",
    "       'Qs_tavg',   'Rainf_f_tavg', \n",
    "       'SoilMoi00_10cm_tavg', 'Swnet_tavg', \n",
    "       'Tair_f_tavg', 'Wind_f_tavg', 'ozone_mean',\n",
    "       'npp_mean', 'nl_mean', 'Battles', 'Riots',\n",
    "       'Strategic developments', 'Violence against civilians']]\n",
    "y = geo_social['CS_2']\n",
    "X_train, X_test, y_train, y_test = train_test_split(X, y, test_size=0.3, random_state=12345)"
   ]
  },
  {
   "cell_type": "code",
   "execution_count": 108,
   "metadata": {},
   "outputs": [
    {
     "name": "stdout",
     "output_type": "stream",
     "text": [
      "Accuracy_test: 81.039%  Accuracy_train: 85.500%  Overfitting: -4.461%\n"
     ]
    }
   ],
   "source": [
    "# XGBoost Tunning\n",
    "model = XGBClassifier(n_estimators = 70, objective='binary:logistic', subsample = 0.5,\n",
    "                      tree_method = 'exact', grow_policy = 'lossguide',\n",
    "                      sampling_method = 'gradient_based', min_child_weight = 0.1,\n",
    "            max_depth = 3, seed = 10)\n",
    "model.fit(X_train, y_train)\n",
    "# make predictions for test data\n",
    "y_pred_train = model.predict(X_train)\n",
    "y_pred= model.predict(X_test)\n",
    "print(\"Accuracy_test: %.3f%% \" % (accuracy_score(y_test, y_pred)*100), \n",
    "     \"Accuracy_train: %.3f%% \" % (accuracy_score(y_train, y_pred_train)*100),\n",
    "     'Overfitting: %.3f%%'% ((accuracy_score(y_test, y_pred)*100) - (accuracy_score(y_train, y_pred_train)*100)))"
   ]
  },
  {
   "cell_type": "markdown",
   "metadata": {},
   "source": [
    "# Adding Indirect Events\n",
    "Half of the data were not included as there were no events happened directly in the region. How about we add those events close to the region during the time period? Label them as 'indirect'."
   ]
  },
  {
   "cell_type": "code",
   "execution_count": 61,
   "metadata": {
    "collapsed": true
   },
   "outputs": [],
   "source": [
    "geo_social['event_source'] = 'Direct'"
   ]
  },
  {
   "cell_type": "code",
   "execution_count": 102,
   "metadata": {},
   "outputs": [
    {
     "name": "stderr",
     "output_type": "stream",
     "text": [
      "/Applications/anaconda3/envs/learn-env/lib/python3.6/site-packages/ipykernel_launcher.py:3: SettingWithCopyWarning: \n",
      "A value is trying to be set on a copy of a slice from a DataFrame.\n",
      "Try using .loc[row_indexer,col_indexer] = value instead\n",
      "\n",
      "See the caveats in the documentation: http://pandas.pydata.org/pandas-docs/stable/user_guide/indexing.html#returning-a-view-versus-a-copy\n",
      "  This is separate from the ipykernel package so we can avoid doing imports until\n",
      "/Applications/anaconda3/envs/learn-env/lib/python3.6/site-packages/ipykernel_launcher.py:5: SettingWithCopyWarning: \n",
      "A value is trying to be set on a copy of a slice from a DataFrame.\n",
      "Try using .loc[row_indexer,col_indexer] = value instead\n",
      "\n",
      "See the caveats in the documentation: http://pandas.pydata.org/pandas-docs/stable/user_guide/indexing.html#returning-a-view-versus-a-copy\n",
      "  \"\"\"\n"
     ]
    }
   ],
   "source": [
    "## All CS\n",
    "all_cards = data_regions[['ADM1_CODE', 'Start', 'End', 'CS', 'geometry']]\n",
    "all_cards['unique'] = all_cards['ADM1_CODE'].astype(str) + \"-\" + all_cards['End']\n",
    "direct_cards = geo_social[['ADM1_CODE', 'Start_x', 'End']]\n",
    "direct_cards['unique'] = direct_cards['ADM1_CODE'].astype(str) + \"-\" + direct_cards['End']\n",
    "direct_unique = direct_cards['unique'].to_list()"
   ]
  },
  {
   "cell_type": "code",
   "execution_count": 103,
   "metadata": {
    "collapsed": true
   },
   "outputs": [],
   "source": [
    "indirect_cards = all_cards[~all_cards.unique.isin(direct_unique)].reset_index(drop=True)"
   ]
  },
  {
   "cell_type": "code",
   "execution_count": 104,
   "metadata": {
    "collapsed": true
   },
   "outputs": [],
   "source": [
    "indirect_cards['event_source'] = 'Indirect'"
   ]
  },
  {
   "cell_type": "code",
   "execution_count": 126,
   "metadata": {
    "collapsed": true
   },
   "outputs": [],
   "source": [
    "indirect_cards_geo_r = gpd.GeoDataFrame(indirect_cards, geometry='geometry')\n",
    "indirect_cards_geo = pd.merge(indirect_cards_geo_r, regions[['ADM1_CODE', 'ADM0_NAME_x']],\n",
    "                        on = 'ADM1_CODE', how = 'left')"
   ]
  },
  {
   "cell_type": "code",
   "execution_count": 130,
   "metadata": {
    "collapsed": true
   },
   "outputs": [],
   "source": [
    "indirect_cards_geo['centroid'] = indirect_cards_geo.geometry.centroid"
   ]
  },
  {
   "cell_type": "code",
   "execution_count": 134,
   "metadata": {},
   "outputs": [
    {
     "name": "stderr",
     "output_type": "stream",
     "text": [
      "/Applications/anaconda3/envs/learn-env/lib/python3.6/site-packages/ipykernel_launcher.py:4: SettingWithCopyWarning: \n",
      "A value is trying to be set on a copy of a slice from a DataFrame\n",
      "\n",
      "See the caveats in the documentation: http://pandas.pydata.org/pandas-docs/stable/user_guide/indexing.html#returning-a-view-versus-a-copy\n",
      "  after removing the cwd from sys.path.\n",
      "/Applications/anaconda3/envs/learn-env/lib/python3.6/site-packages/ipykernel_launcher.py:6: SettingWithCopyWarning: \n",
      "A value is trying to be set on a copy of a slice from a DataFrame\n",
      "\n",
      "See the caveats in the documentation: http://pandas.pydata.org/pandas-docs/stable/user_guide/indexing.html#returning-a-view-versus-a-copy\n",
      "  \n"
     ]
    }
   ],
   "source": [
    "# joining\n",
    "for i in range(len(indirect_cards_geo)):\n",
    "    if indirect_cards_geo.End[i] == '2020-02-29':\n",
    "        indirect_cards_geo.Start[i] = '2019-11-01'\n",
    "    elif indirect_cards_geo.End[i] == '2019-02-28':\n",
    "        indirect_cards_geo.Start[i] = '2019-01-01'\n",
    "\n",
    "two_month = dt.timedelta(days=60)\n",
    "one_month = dt.timedelta(days=15)\n",
    "indirect_cards_geo['Start_2'] = pd.to_datetime(indirect_cards_geo['Start']) - two_month\n",
    "indirect_cards_geo['End_2'] = pd.to_datetime(indirect_cards_geo['End']) - one_month\n",
    "\n",
    "#Make the db in memory\n",
    "conn = sqlite3.connect(':memory:')\n",
    "#write the tables\n",
    "indirect_cards_geo[['ADM1_CODE', 'Start', 'End', \n",
    "        'CS', 'Start_2', 'End_2', 'ADM0_NAME_x']].to_sql('indirect_card', conn, index=False)\n",
    "df.to_sql('events', conn, index=False)"
   ]
  },
  {
   "cell_type": "code",
   "execution_count": 135,
   "metadata": {
    "collapsed": true
   },
   "outputs": [],
   "source": [
    "qry = '''    select  \n",
    "       da.data_id,\n",
    "       da.event_date, da.year,\n",
    "     da.event_type, da.actor1, da.actor2,\n",
    "      da.country, da.admin1,\n",
    "       da.location, da.latitude, da.longitude,\n",
    "       da.notes, da.fatalities, \n",
    "       rs.ADM1_CODE, rs.Start, rs.End, rs.CS\n",
    "    from\n",
    "        events as da\n",
    "        join indirect_card as rs on da.country = rs.ADM0_NAME_x\n",
    "        where da.event_date <= rs.End_2\n",
    "        and da.event_date >= rs.Start_2\n",
    "    '''\n",
    "df_indirect = pd.read_sql_query(qry, conn)"
   ]
  },
  {
   "cell_type": "code",
   "execution_count": 136,
   "metadata": {},
   "outputs": [
    {
     "name": "stdout",
     "output_type": "stream",
     "text": [
      "<class 'pandas.core.frame.DataFrame'>\n",
      "RangeIndex: 3980502 entries, 0 to 3980501\n",
      "Data columns (total 17 columns):\n",
      "data_id       int64\n",
      "event_date    object\n",
      "year          int64\n",
      "event_type    object\n",
      "actor1        object\n",
      "actor2        object\n",
      "country       object\n",
      "admin1        object\n",
      "location      object\n",
      "latitude      float64\n",
      "longitude     float64\n",
      "notes         object\n",
      "fatalities    int64\n",
      "ADM1_CODE     int64\n",
      "Start         object\n",
      "End           object\n",
      "CS            float64\n",
      "dtypes: float64(3), int64(4), object(10)\n",
      "memory usage: 516.3+ MB\n"
     ]
    }
   ],
   "source": [
    "df_indirect.info()"
   ]
  },
  {
   "cell_type": "code",
   "execution_count": null,
   "metadata": {
    "collapsed": true
   },
   "outputs": [],
   "source": [
    "indirect_geo = pd.merge(df_indirect, \n",
    "            indirect_cards_geo[['ADM1_CODE', 'centroid']], on='ADM1_CODE', \n",
    "                how = 'left')"
   ]
  },
  {
   "cell_type": "code",
   "execution_count": null,
   "metadata": {
    "collapsed": true
   },
   "outputs": [],
   "source": []
  },
  {
   "cell_type": "markdown",
   "metadata": {},
   "source": [
    "# Does time matter?\n",
    "2020 is a very different year comparing to previous years. If model separately, are there going to be any other finding?"
   ]
  },
  {
   "cell_type": "code",
   "execution_count": 332,
   "metadata": {
    "collapsed": true
   },
   "outputs": [],
   "source": [
    "# Model 2019 and 2020 data \n",
    "geo_social_2020 = geo_social[pd.to_datetime(geo_social.End).dt.year>2018]"
   ]
  },
  {
   "cell_type": "code",
   "execution_count": 333,
   "metadata": {
    "collapsed": true
   },
   "outputs": [],
   "source": [
    "X_2020 = geo_social_2020[['Evap_tavg_',\n",
    "       'Lwnet_tavg',  'Qair_f_tavg',\n",
    "        'Qh_tavg', \n",
    "       'Qs_tavg',   'Rainf_f_tavg', \n",
    "       'SoilMoi00_10cm_tavg', 'Swnet_tavg', \n",
    "       'Tair_f_tavg', 'Wind_f_tavg', 'ozone_mean',\n",
    "       'npp_mean', 'nl_mean', 'Battles','Explosions/Remote violence', 'Protests', 'Riots',\n",
    "       'Strategic developments', 'Violence against civilians']]\n",
    "y_2020 = geo_social_2020['CS_2']\n",
    "X_train, X_test, y_train, y_test = train_test_split(X_2020, y_2020, \n",
    "                                        test_size=0.25, random_state=12345)"
   ]
  },
  {
   "cell_type": "code",
   "execution_count": 336,
   "metadata": {},
   "outputs": [
    {
     "name": "stdout",
     "output_type": "stream",
     "text": [
      "Accuracy_test: 71.613%  Accuracy_train: 74.194%  Overfitting: -2.581%\n"
     ]
    }
   ],
   "source": [
    "# XGBoost Tunning\n",
    "model = XGBClassifier(n_estimators = 9, objective='binary:logistic', subsample = 0.59,\n",
    "                      tree_method = 'exact', grow_policy = 'lossguide',\n",
    "                      sampling_method = 'gradient_based', min_child_weight = 0.1,\n",
    "            max_depth = 2, seed = 10)\n",
    "model.fit(X_train, y_train)\n",
    "# make predictions for test data\n",
    "y_pred_train = model.predict(X_train)\n",
    "y_pred= model.predict(X_test)\n",
    "print(\"Accuracy_test: %.3f%% \" % (accuracy_score(y_test, y_pred)*100), \n",
    "     \"Accuracy_train: %.3f%% \" % (accuracy_score(y_train, y_pred_train)*100),\n",
    "     'Overfitting: %.3f%%'% ((accuracy_score(y_test, y_pred)*100) - (accuracy_score(y_train, y_pred_train)*100)))"
   ]
  },
  {
   "cell_type": "code",
   "execution_count": 337,
   "metadata": {},
   "outputs": [
    {
     "data": {
      "text/plain": [
       "<matplotlib.axes._subplots.AxesSubplot at 0x15bbd9e48>"
      ]
     },
     "execution_count": 337,
     "metadata": {},
     "output_type": "execute_result"
    },
    {
     "data": {
      "image/png": "[encoded data removed]",
      "text/plain": [
       "<Figure size 432x288 with 1 Axes>"
      ]
     },
     "metadata": {
      "needs_background": "light"
     },
     "output_type": "display_data"
    }
   ],
   "source": [
    "xgboost.plot_importance(model, max_num_features=18)"
   ]
  },
  {
   "cell_type": "code",
   "execution_count": 338,
   "metadata": {
    "collapsed": true
   },
   "outputs": [],
   "source": [
    "# Model before 2019 data\n",
    "geo_social_2018 = geo_social[pd.to_datetime(geo_social.End).dt.year<2019]"
   ]
  },
  {
   "cell_type": "code",
   "execution_count": 339,
   "metadata": {
    "collapsed": true
   },
   "outputs": [],
   "source": [
    "X_2018 = geo_social_2018[['Evap_tavg_',\n",
    "       'Lwnet_tavg',  'Qair_f_tavg',\n",
    "        'Qh_tavg', \n",
    "       'Qs_tavg',   'Rainf_f_tavg', \n",
    "       'SoilMoi00_10cm_tavg', 'Swnet_tavg', \n",
    "       'Tair_f_tavg', 'Wind_f_tavg', 'ozone_mean',\n",
    "       'npp_mean', 'nl_mean', 'Battles','Explosions/Remote violence', 'Protests', 'Riots',\n",
    "       'Strategic developments', 'Violence against civilians']]\n",
    "y_2018 = geo_social_2018['CS_2']\n",
    "X_train, X_test, y_train, y_test = train_test_split(X_2018, y_2018, \n",
    "                                        test_size=0.25, random_state=12345)"
   ]
  },
  {
   "cell_type": "code",
   "execution_count": 340,
   "metadata": {},
   "outputs": [
    {
     "name": "stdout",
     "output_type": "stream",
     "text": [
      "Accuracy_test: 77.383%  Accuracy_train: 84.476%  Overfitting: -7.093%\n"
     ]
    }
   ],
   "source": [
    "# XGBoost Tunning\n",
    "model = XGBClassifier(n_estimators = 20, objective='binary:logistic', subsample = 0.5,\n",
    "                      tree_method = 'exact', grow_policy = 'lossguide',\n",
    "                      sampling_method = 'gradient_based', min_child_weight = 0.1,\n",
    "            max_depth = 3, seed = 10)\n",
    "model.fit(X_train, y_train)\n",
    "# make predictions for test data\n",
    "y_pred_train = model.predict(X_train)\n",
    "y_pred= model.predict(X_test)\n",
    "print(\"Accuracy_test: %.3f%% \" % (accuracy_score(y_test, y_pred)*100), \n",
    "     \"Accuracy_train: %.3f%% \" % (accuracy_score(y_train, y_pred_train)*100),\n",
    "     'Overfitting: %.3f%%'% ((accuracy_score(y_test, y_pred)*100) - (accuracy_score(y_train, y_pred_train)*100)))"
   ]
  },
  {
   "cell_type": "code",
   "execution_count": 341,
   "metadata": {},
   "outputs": [
    {
     "data": {
      "text/plain": [
       "<matplotlib.axes._subplots.AxesSubplot at 0x15cd146a0>"
      ]
     },
     "execution_count": 341,
     "metadata": {},
     "output_type": "execute_result"
    },
    {
     "data": {
      "image/png": "[encoded data removed]",
      "text/plain": [
       "<Figure size 432x288 with 1 Axes>"
      ]
     },
     "metadata": {
      "needs_background": "light"
     },
     "output_type": "display_data"
    }
   ],
   "source": [
    "xgboost.plot_importance(model, max_num_features=18)"
   ]
  },
  {
   "cell_type": "code",
   "execution_count": null,
   "metadata": {
    "collapsed": true
   },
   "outputs": [],
   "source": []
  }
 ],
 "metadata": {
  "colab": {
   "authorship_tag": "ABX9TyOOmw8fqi5XkbSI+1bP2huE",
   "collapsed_sections": [],
   "mount_file_id": "1QBRT6X3xJbpxzgnQpnNAXQ9dVgQLJC_2",
   "name": "Social_conflict.ipynb",
   "provenance": []
  },
  "kernelspec": {
   "display_name": "learn-env",
   "language": "python",
   "name": "learn-env"
  },
  "language_info": {
   "codemirror_mode": {
    "name": "ipython",
    "version": 3
   },
   "file_extension": ".py",
   "mimetype": "text/x-python",
   "name": "python",
   "nbconvert_exporter": "python",
   "pygments_lexer": "ipython3",
   "version": "3.6.9"
  }
 },
 "nbformat": 4,
 "nbformat_minor": 1
}
