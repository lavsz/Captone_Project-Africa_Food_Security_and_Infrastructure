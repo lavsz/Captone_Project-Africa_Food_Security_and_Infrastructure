{
 "cells": [
  {
   "cell_type": "code",
   "execution_count": 73,
   "metadata": {},
   "outputs": [
    {
     "name": "stderr",
     "output_type": "stream",
     "text": [
      "UsageError: Line magic function `%` not found.\n"
     ]
    }
   ],
   "source": [
    "import numpy as np\n",
    "import pandas as pd\n",
    "import geopandas as gpd\n",
    "\n",
    "from sklearn.ensemble import RandomForestClassifier\n",
    "from sklearn.neighbors import KNeighborsClassifier\n",
    "import xgboost\n",
    "from xgboost import XGBClassifier\n",
    "\n",
    "from sklearn.model_selection import train_test_split\n",
    "from sklearn.metrics import accuracy_score\n",
    "from sklearn.metrics import accuracy_score, classification_report, confusion_matrix\n",
    "from sklearn.inspection import permutation_importance\n",
    "\n",
    "from sklearn.model_selection import GridSearchCV\n",
    "from sklearn.pipeline import Pipeline\n",
    "from imblearn.pipeline import Pipeline as imbPipeline\n",
    "\n",
    "import seaborn as sns\n",
    "import matplotlib.pyplot as plt\n",
    "% matplotlib inline"
   ]
  },
  {
   "cell_type": "markdown",
   "metadata": {},
   "source": [
    "## Combining all the data"
   ]
  },
  {
   "cell_type": "code",
   "execution_count": 2,
   "metadata": {
    "collapsed": true
   },
   "outputs": [],
   "source": [
    "hfic = gpd.read_file('HFIC_new.geojson')"
   ]
  },
  {
   "cell_type": "code",
   "execution_count": 3,
   "metadata": {},
   "outputs": [
    {
     "data": {
      "text/plain": [
       "1.0    3068\n",
       "2.0    1498\n",
       "3.0    1096\n",
       "4.0     259\n",
       "5.0       9\n",
       "Name: CS, dtype: int64"
      ]
     },
     "execution_count": 3,
     "metadata": {},
     "output_type": "execute_result"
    }
   ],
   "source": [
    "hfic.CS.value_counts()"
   ]
  },
  {
   "cell_type": "code",
   "execution_count": 4,
   "metadata": {
    "collapsed": true
   },
   "outputs": [],
   "source": [
    "gdf = gpd.read_file('wind_all.geojson')\n",
    "other = gpd.read_file('light_in.geojson')"
   ]
  },
  {
   "cell_type": "code",
   "execution_count": 5,
   "metadata": {
    "collapsed": true
   },
   "outputs": [],
   "source": [
    "other['ozone_mean'] = other['ozone_mean'].fillna(other['ozone_mean'].median())\n",
    "other['ozone_std'] = other['ozone_std'].fillna(other['ozone_std'].median())"
   ]
  },
  {
   "cell_type": "code",
   "execution_count": 6,
   "metadata": {},
   "outputs": [],
   "source": [
    "## Merge\n",
    "combo = gdf.join(other, rsuffix='_')"
   ]
  },
  {
   "cell_type": "code",
   "execution_count": 7,
   "metadata": {
    "collapsed": true
   },
   "outputs": [],
   "source": [
    "combo_m1 = combo[['ADM0_NAME', 'ADM1_CODE', 'CS', 'Start', 'End',  'Evap_tavg_', 'Evap_tavg_std_',\n",
    "                   'Lwnet_tavg', 'Lwnet_tavg_std', 'Qair_f_tavg',\n",
    "       'Qair_f_tavg_std', 'Qh_tavg', 'Qh_tavg_std', \n",
    "       'Qs_tavg', 'Qs_tavg_std', 'Rainf_f_tavg', 'Rainf_f_tavg_std',\n",
    "       'SoilMoi00_10cm_tavg', 'SoilMoi00_10cm_tavg_std',\n",
    "       'Swnet_tavg', 'Swnet_tavg_std',\n",
    "       'Tair_f_tavg', 'Tair_f_tavg_std', 'Wind_f_tavg', 'Wind_f_tavg_std',\n",
    "       'ozone_mean', 'ozone_std',\n",
    "       'npp_mean', 'npp_std',  'nl_mean', 'nl_std',  'geometry']]"
   ]
  },
  {
   "cell_type": "code",
   "execution_count": 8,
   "metadata": {
    "collapsed": true
   },
   "outputs": [],
   "source": [
    "combo_m2 = combo.merge(hfic, on = ['ADM1_CODE', 'Start', 'End'], how = 'right')"
   ]
  },
  {
   "cell_type": "code",
   "execution_count": 9,
   "metadata": {
    "collapsed": true
   },
   "outputs": [],
   "source": [
    "combo_mod = combo_m2[['ADM0_NAME_x', 'ADM1_CODE','Start', 'End',  'Evap_tavg_', 'Evap_tavg_std_',\n",
    "                      'Lwnet_tavg', 'Lwnet_tavg_std', 'Qair_f_tavg',\n",
    "       'Qair_f_tavg_std', 'Qh_tavg', 'Qh_tavg_std', 'Qle_tavg', 'Qle_tavg_std',\n",
    "       'Qs_tavg', 'Qs_tavg_std', 'Qsb_tavg', 'Qsb_tavg_std', 'RadT_tavg',\n",
    "       'RadT_tavg_std', 'Rainf_f_tavg', 'Rainf_f_tavg_std',\n",
    "       'SoilMoi00_10cm_tavg', 'SoilMoi00_10cm_tavg_std', 'SoilMoi10_40cm_tavg',\n",
    "       'SoilMoi10_40cm_tavg_std', 'SoilTemp00_10cm_tavg',\n",
    "       'SoilTemp00_10cm_tavg_std', 'SoilTemp10_40cm_tavg',\n",
    "       'SoilTemp10_40cm_tavg_std', 'Swnet_tavg', 'Swnet_tavg_std',\n",
    "       'Tair_f_tavg', 'Tair_f_tavg_std', 'Wind_f_tavg', 'Wind_f_tavg_std',\n",
    "              'ozone_mean', 'ozone_std', 'npp_mean', 'npp_std', 'nl_mean',\n",
    "       'nl_std', 'nl_dataset',\n",
    "          'CS_y', 'geometry_x']]"
   ]
  },
  {
   "cell_type": "code",
   "execution_count": 10,
   "metadata": {},
   "outputs": [
    {
     "data": {
      "text/plain": [
       "1.0    3068\n",
       "2.0    1498\n",
       "3.0    1096\n",
       "4.0     259\n",
       "5.0       9\n",
       "Name: CS_y, dtype: int64"
      ]
     },
     "execution_count": 10,
     "metadata": {},
     "output_type": "execute_result"
    }
   ],
   "source": [
    "combo_mod.CS_y.value_counts()"
   ]
  },
  {
   "cell_type": "markdown",
   "metadata": {},
   "source": [
    "## First Model - Geophysical"
   ]
  },
  {
   "cell_type": "code",
   "execution_count": 11,
   "metadata": {
    "collapsed": true
   },
   "outputs": [],
   "source": [
    "X = combo_mod[['Evap_tavg_',\n",
    "       'Lwnet_tavg',  'Qair_f_tavg',\n",
    "        'Qh_tavg', \n",
    "       'Qs_tavg',   'Rainf_f_tavg', \n",
    "       'SoilMoi00_10cm_tavg', 'Swnet_tavg', \n",
    "       'Tair_f_tavg', 'Wind_f_tavg', 'ozone_mean',\n",
    "       'npp_mean']]\n",
    "y = combo_mod['CS_y']"
   ]
  },
  {
   "cell_type": "code",
   "execution_count": 12,
   "metadata": {
    "collapsed": true
   },
   "outputs": [],
   "source": [
    "X_train, X_test, y_train, y_test = train_test_split(X, y, test_size=0.25, random_state=12345)"
   ]
  },
  {
   "cell_type": "markdown",
   "metadata": {},
   "source": [
    "## Grid Search"
   ]
  },
  {
   "cell_type": "code",
   "execution_count": 139,
   "metadata": {},
   "outputs": [
    {
     "name": "stdout",
     "output_type": "stream",
     "text": [
      "{'classifier__criterion': 'entropy', 'classifier__max_depth': 12, 'classifier__min_samples_leaf': 2, 'classifier__min_samples_split': 2, 'classifier__n_estimators': 200}\n"
     ]
    }
   ],
   "source": [
    "pipeline_rf_gr = Pipeline([('classifier', RandomForestClassifier(random_state = 10))])\n",
    "\n",
    "rf_params = {'classifier__n_estimators':[20, 50, 100, 200],\n",
    "        'classifier__criterion':['gini', 'entropy'],\n",
    "             'classifier__max_depth':[3, 5, 8, 10, 12],\n",
    "             'classifier__min_samples_split':[2, 5, 8,10],\n",
    "             'classifier__min_samples_leaf':[2, 5, 8]}\n",
    "grid_rf = GridSearchCV(pipeline_rf_gr, rf_params, cv=5)\n",
    "\n",
    "grid_rf.fit(X_train, y_train)\n",
    "\n",
    "# Mirror Mirror from GridSearch! Tell me what's the best parameters\n",
    "print(grid_rf.best_params_)"
   ]
  },
  {
   "cell_type": "code",
   "execution_count": 140,
   "metadata": {
    "collapsed": true
   },
   "outputs": [],
   "source": [
    "clf=RandomForestClassifier(n_estimators=200, criterion = 'entropy', max_depth=12,\n",
    "                        min_samples_leaf = 2, min_samples_split = 2,\n",
    "                          random_state=10)\n",
    "clf.fit(X_train,y_train)\n",
    "y_pred_train = clf.predict(X_train)\n",
    "y_pred=clf.predict(X_test)"
   ]
  },
  {
   "cell_type": "code",
   "execution_count": 141,
   "metadata": {},
   "outputs": [
    {
     "name": "stdout",
     "output_type": "stream",
     "text": [
      "Accuracy_test: 63.250%  Accuracy_train: 94.333% \n"
     ]
    }
   ],
   "source": [
    "print(\"Accuracy_test: %.3f%% \" % (accuracy_score(y_test, y_pred)*100), \n",
    "     \"Accuracy_train: %.3f%% \" % (accuracy_score(y_train, y_pred_train)*100))"
   ]
  },
  {
   "cell_type": "markdown",
   "metadata": {},
   "source": [
    "### Note: Overfitting!"
   ]
  },
  {
   "cell_type": "code",
   "execution_count": 144,
   "metadata": {
    "collapsed": true
   },
   "outputs": [],
   "source": [
    "# Tunning to use less estimators and depth\n",
    "clf=RandomForestClassifier(n_estimators=50, criterion = 'entropy', max_depth=10,\n",
    "                        min_samples_leaf = 2, min_samples_split = 2,\n",
    "                          random_state=10)\n",
    "clf.fit(X_train,y_train)\n",
    "y_pred_train = clf.predict(X_train)\n",
    "y_pred=clf.predict(X_test)"
   ]
  },
  {
   "cell_type": "code",
   "execution_count": 145,
   "metadata": {},
   "outputs": [
    {
     "name": "stdout",
     "output_type": "stream",
     "text": [
      "Accuracy_test: 62.846%  Accuracy_train: 83.989% \n"
     ]
    }
   ],
   "source": [
    "print(\"Accuracy_test: %.3f%% \" % (accuracy_score(y_test, y_pred)*100), \n",
    "     \"Accuracy_train: %.3f%% \" % (accuracy_score(y_train, y_pred_train)*100))"
   ]
  },
  {
   "cell_type": "markdown",
   "metadata": {},
   "source": [
    "## XGBoost"
   ]
  },
  {
   "cell_type": "code",
   "execution_count": 23,
   "metadata": {},
   "outputs": [
    {
     "name": "stdout",
     "output_type": "stream",
     "text": [
      "Accuracy_test: 62.980%  Accuracy_train: 69.170%  Overfitting: -6.190% \n"
     ]
    }
   ],
   "source": [
    "model = XGBClassifier(n_estimators = 30, objective='softmax', subsample = 0.55,\n",
    "            max_depth = 5, seed = 10)\n",
    "model.fit(X_train, y_train)\n",
    "# make predictions for test data\n",
    "y_pred_train = model.predict(X_train)\n",
    "y_pred= model.predict(X_test)\n",
    "print(\"Accuracy_test: %.3f%% \" % (accuracy_score(y_test, y_pred)*100), \n",
    "     \"Accuracy_train: %.3f%% \" % (accuracy_score(y_train, y_pred_train)*100),\n",
    "'Overfitting: %.3f%% ' % ((accuracy_score(y_test, y_pred)*100)-(accuracy_score(y_train, y_pred_train)*100)))"
   ]
  },
  {
   "cell_type": "markdown",
   "metadata": {},
   "source": [
    "## Second Model - Adding in Nightlight"
   ]
  },
  {
   "cell_type": "code",
   "execution_count": 24,
   "metadata": {
    "collapsed": true
   },
   "outputs": [],
   "source": [
    "X = combo_mod[['Evap_tavg_',\n",
    "       'Lwnet_tavg',  'Qair_f_tavg',\n",
    "        'Qh_tavg', \n",
    "       'Qs_tavg',   'Rainf_f_tavg', \n",
    "       'SoilMoi00_10cm_tavg', 'Swnet_tavg', \n",
    "       'Tair_f_tavg', 'Wind_f_tavg', 'ozone_mean',\n",
    "       'npp_mean', 'nl_mean']]\n",
    "y = combo_mod['CS_y']\n",
    "X_train, X_test, y_train, y_test = train_test_split(X, y, test_size=0.25, random_state=12345)"
   ]
  },
  {
   "cell_type": "code",
   "execution_count": 148,
   "metadata": {},
   "outputs": [
    {
     "name": "stdout",
     "output_type": "stream",
     "text": [
      "{'classifier__criterion': 'entropy', 'classifier__max_depth': 12, 'classifier__min_samples_leaf': 2, 'classifier__min_samples_split': 5, 'classifier__n_estimators': 100}\n"
     ]
    }
   ],
   "source": [
    "pipeline_rf_gr = Pipeline([('classifier', RandomForestClassifier(random_state = 10))])\n",
    "\n",
    "rf_params = {'classifier__n_estimators':[20, 50, 100, 200],\n",
    "        'classifier__criterion':['gini', 'entropy'],\n",
    "             'classifier__max_depth':[3, 5, 8, 10, 12],\n",
    "             'classifier__min_samples_split':[2, 5, 8,10],\n",
    "             'classifier__min_samples_leaf':[2, 5, 8]}\n",
    "grid_rf = GridSearchCV(pipeline_rf_gr, rf_params, cv=5)\n",
    "\n",
    "grid_rf.fit(X_train, y_train)\n",
    "\n",
    "# Mirror Mirror from GridSearch! Tell me what's the best parameters\n",
    "print(grid_rf.best_params_)"
   ]
  },
  {
   "cell_type": "code",
   "execution_count": 153,
   "metadata": {
    "collapsed": true
   },
   "outputs": [],
   "source": [
    "clf=RandomForestClassifier(n_estimators=100, criterion = 'entropy', max_depth=8,\n",
    "                        min_samples_leaf = 2, min_samples_split = 5,\n",
    "                          random_state=10)\n",
    "clf.fit(X_train,y_train)\n",
    "y_pred_train = clf.predict(X_train)\n",
    "y_pred=clf.predict(X_test)"
   ]
  },
  {
   "cell_type": "code",
   "execution_count": 154,
   "metadata": {},
   "outputs": [
    {
     "name": "stdout",
     "output_type": "stream",
     "text": [
      "Accuracy_test: 61.834%  Accuracy_train: 73.038% \n"
     ]
    }
   ],
   "source": [
    "print(\"Accuracy_test: %.3f%% \" % (accuracy_score(y_test, y_pred)*100), \n",
    "     \"Accuracy_train: %.3f%% \" % (accuracy_score(y_train, y_pred_train)*100))"
   ]
  },
  {
   "cell_type": "code",
   "execution_count": 155,
   "metadata": {},
   "outputs": [
    {
     "data": {
      "text/plain": [
       "(array([0.5, 1.5, 2.5, 3.5]),\n",
       " [Text(0, 0.5, '1'), Text(0, 1.5, '2'), Text(0, 2.5, '3'), Text(0, 3.5, '4')])"
      ]
     },
     "execution_count": 155,
     "metadata": {},
     "output_type": "execute_result"
    },
    {
     "data": {
      "image/png": "[encoded data removed]",
      "text/plain": [
       "<Figure size 432x288 with 2 Axes>"
      ]
     },
     "metadata": {
      "needs_background": "light"
     },
     "output_type": "display_data"
    }
   ],
   "source": [
    "mat_r = confusion_matrix(y_test, y_pred)\n",
    "sns.heatmap(mat_r.T, annot=True, fmt='g',\n",
    "           xticklabels = ['1', '2', '3', '4'],\n",
    "           yticklabels = ['1', '2', '3', '4'])\n",
    "pl.xlabel('true_label')\n",
    "pl.yticks(rotation = 45)"
   ]
  },
  {
   "cell_type": "code",
   "execution_count": 156,
   "metadata": {},
   "outputs": [
    {
     "name": "stdout",
     "output_type": "stream",
     "text": [
      "              precision    recall  f1-score   support\n",
      "\n",
      "         1.0       0.67      0.91      0.77       763\n",
      "         2.0       0.47      0.31      0.37       380\n",
      "         3.0       0.52      0.37      0.43       265\n",
      "         4.0       1.00      0.11      0.20        73\n",
      "         5.0       0.00      0.00      0.00         2\n",
      "\n",
      "    accuracy                           0.62      1483\n",
      "   macro avg       0.53      0.34      0.35      1483\n",
      "weighted avg       0.61      0.62      0.58      1483\n",
      "\n"
     ]
    },
    {
     "name": "stderr",
     "output_type": "stream",
     "text": [
      "/Users/lavz/.local/lib/python3.8/site-packages/sklearn/metrics/_classification.py:1245: UndefinedMetricWarning: Precision and F-score are ill-defined and being set to 0.0 in labels with no predicted samples. Use `zero_division` parameter to control this behavior.\n",
      "  _warn_prf(average, modifier, msg_start, len(result))\n",
      "/Users/lavz/.local/lib/python3.8/site-packages/sklearn/metrics/_classification.py:1245: UndefinedMetricWarning: Precision and F-score are ill-defined and being set to 0.0 in labels with no predicted samples. Use `zero_division` parameter to control this behavior.\n",
      "  _warn_prf(average, modifier, msg_start, len(result))\n",
      "/Users/lavz/.local/lib/python3.8/site-packages/sklearn/metrics/_classification.py:1245: UndefinedMetricWarning: Precision and F-score are ill-defined and being set to 0.0 in labels with no predicted samples. Use `zero_division` parameter to control this behavior.\n",
      "  _warn_prf(average, modifier, msg_start, len(result))\n"
     ]
    }
   ],
   "source": [
    "test_rp = classification_report(y_test, y_pred)\n",
    "print(test_rp)"
   ]
  },
  {
   "cell_type": "code",
   "execution_count": 25,
   "metadata": {},
   "outputs": [
    {
     "name": "stdout",
     "output_type": "stream",
     "text": [
      "Accuracy_test: 63.722%  Accuracy_train: 70.632%  Overfitting: -6.910% \n"
     ]
    }
   ],
   "source": [
    "model = XGBClassifier(n_estimators = 30, objective='softmax', subsample = 0.55,\n",
    "            max_depth = 5, seed = 10)\n",
    "model.fit(X_train, y_train)\n",
    "# make predictions for test data\n",
    "y_pred_train = model.predict(X_train)\n",
    "y_pred= model.predict(X_test)\n",
    "print(\"Accuracy_test: %.3f%% \" % (accuracy_score(y_test, y_pred)*100), \n",
    "     \"Accuracy_train: %.3f%% \" % (accuracy_score(y_train, y_pred_train)*100),\n",
    "'Overfitting: %.3f%% ' % ((accuracy_score(y_test, y_pred)*100)-(accuracy_score(y_train, y_pred_train)*100)))"
   ]
  },
  {
   "cell_type": "markdown",
   "metadata": {},
   "source": [
    "## Third Model - Using Standard Error instead of Mean"
   ]
  },
  {
   "cell_type": "code",
   "execution_count": 26,
   "metadata": {
    "collapsed": true
   },
   "outputs": [],
   "source": [
    "x = []\n",
    "for i in combo_mod['ozone_std']:\n",
    "    if i > 0:\n",
    "        x.append(i)"
   ]
  },
  {
   "cell_type": "code",
   "execution_count": 27,
   "metadata": {},
   "outputs": [
    {
     "data": {
      "text/plain": [
       "2.85868460917316e-06"
      ]
     },
     "execution_count": 27,
     "metadata": {},
     "output_type": "execute_result"
    }
   ],
   "source": [
    "min(x)"
   ]
  },
  {
   "cell_type": "code",
   "execution_count": 28,
   "metadata": {},
   "outputs": [
    {
     "name": "stderr",
     "output_type": "stream",
     "text": [
      "/Applications/anaconda3/envs/learn-env/lib/python3.6/site-packages/ipykernel_launcher.py:1: SettingWithCopyWarning: \n",
      "A value is trying to be set on a copy of a slice from a DataFrame.\n",
      "Try using .loc[row_indexer,col_indexer] = value instead\n",
      "\n",
      "See the caveats in the documentation: http://pandas.pydata.org/pandas-docs/stable/user_guide/indexing.html#returning-a-view-versus-a-copy\n",
      "  \"\"\"Entry point for launching an IPython kernel.\n"
     ]
    }
   ],
   "source": [
    "combo_mod['ozone_std'] = combo_mod['ozone_std'].replace(0, min(x))"
   ]
  },
  {
   "cell_type": "code",
   "execution_count": 29,
   "metadata": {},
   "outputs": [
    {
     "name": "stderr",
     "output_type": "stream",
     "text": [
      "/Applications/anaconda3/envs/learn-env/lib/python3.6/site-packages/ipykernel_launcher.py:1: SettingWithCopyWarning: \n",
      "A value is trying to be set on a copy of a slice from a DataFrame.\n",
      "Try using .loc[row_indexer,col_indexer] = value instead\n",
      "\n",
      "See the caveats in the documentation: http://pandas.pydata.org/pandas-docs/stable/user_guide/indexing.html#returning-a-view-versus-a-copy\n",
      "  \"\"\"Entry point for launching an IPython kernel.\n",
      "/Applications/anaconda3/envs/learn-env/lib/python3.6/site-packages/ipykernel_launcher.py:2: SettingWithCopyWarning: \n",
      "A value is trying to be set on a copy of a slice from a DataFrame.\n",
      "Try using .loc[row_indexer,col_indexer] = value instead\n",
      "\n",
      "See the caveats in the documentation: http://pandas.pydata.org/pandas-docs/stable/user_guide/indexing.html#returning-a-view-versus-a-copy\n",
      "  \n",
      "/Applications/anaconda3/envs/learn-env/lib/python3.6/site-packages/ipykernel_launcher.py:3: SettingWithCopyWarning: \n",
      "A value is trying to be set on a copy of a slice from a DataFrame.\n",
      "Try using .loc[row_indexer,col_indexer] = value instead\n",
      "\n",
      "See the caveats in the documentation: http://pandas.pydata.org/pandas-docs/stable/user_guide/indexing.html#returning-a-view-versus-a-copy\n",
      "  This is separate from the ipykernel package so we can avoid doing imports until\n",
      "/Applications/anaconda3/envs/learn-env/lib/python3.6/site-packages/ipykernel_launcher.py:4: SettingWithCopyWarning: \n",
      "A value is trying to be set on a copy of a slice from a DataFrame.\n",
      "Try using .loc[row_indexer,col_indexer] = value instead\n",
      "\n",
      "See the caveats in the documentation: http://pandas.pydata.org/pandas-docs/stable/user_guide/indexing.html#returning-a-view-versus-a-copy\n",
      "  after removing the cwd from sys.path.\n",
      "/Applications/anaconda3/envs/learn-env/lib/python3.6/site-packages/ipykernel_launcher.py:5: SettingWithCopyWarning: \n",
      "A value is trying to be set on a copy of a slice from a DataFrame.\n",
      "Try using .loc[row_indexer,col_indexer] = value instead\n",
      "\n",
      "See the caveats in the documentation: http://pandas.pydata.org/pandas-docs/stable/user_guide/indexing.html#returning-a-view-versus-a-copy\n",
      "  \"\"\"\n",
      "/Applications/anaconda3/envs/learn-env/lib/python3.6/site-packages/ipykernel_launcher.py:6: SettingWithCopyWarning: \n",
      "A value is trying to be set on a copy of a slice from a DataFrame.\n",
      "Try using .loc[row_indexer,col_indexer] = value instead\n",
      "\n",
      "See the caveats in the documentation: http://pandas.pydata.org/pandas-docs/stable/user_guide/indexing.html#returning-a-view-versus-a-copy\n",
      "  \n",
      "/Applications/anaconda3/envs/learn-env/lib/python3.6/site-packages/ipykernel_launcher.py:7: SettingWithCopyWarning: \n",
      "A value is trying to be set on a copy of a slice from a DataFrame.\n",
      "Try using .loc[row_indexer,col_indexer] = value instead\n",
      "\n",
      "See the caveats in the documentation: http://pandas.pydata.org/pandas-docs/stable/user_guide/indexing.html#returning-a-view-versus-a-copy\n",
      "  import sys\n",
      "/Applications/anaconda3/envs/learn-env/lib/python3.6/site-packages/ipykernel_launcher.py:8: SettingWithCopyWarning: \n",
      "A value is trying to be set on a copy of a slice from a DataFrame.\n",
      "Try using .loc[row_indexer,col_indexer] = value instead\n",
      "\n",
      "See the caveats in the documentation: http://pandas.pydata.org/pandas-docs/stable/user_guide/indexing.html#returning-a-view-versus-a-copy\n",
      "  \n",
      "/Applications/anaconda3/envs/learn-env/lib/python3.6/site-packages/ipykernel_launcher.py:9: SettingWithCopyWarning: \n",
      "A value is trying to be set on a copy of a slice from a DataFrame.\n",
      "Try using .loc[row_indexer,col_indexer] = value instead\n",
      "\n",
      "See the caveats in the documentation: http://pandas.pydata.org/pandas-docs/stable/user_guide/indexing.html#returning-a-view-versus-a-copy\n",
      "  if __name__ == '__main__':\n",
      "/Applications/anaconda3/envs/learn-env/lib/python3.6/site-packages/ipykernel_launcher.py:10: SettingWithCopyWarning: \n",
      "A value is trying to be set on a copy of a slice from a DataFrame.\n",
      "Try using .loc[row_indexer,col_indexer] = value instead\n",
      "\n",
      "See the caveats in the documentation: http://pandas.pydata.org/pandas-docs/stable/user_guide/indexing.html#returning-a-view-versus-a-copy\n",
      "  # Remove the CWD from sys.path while we load stuff.\n",
      "/Applications/anaconda3/envs/learn-env/lib/python3.6/site-packages/ipykernel_launcher.py:11: SettingWithCopyWarning: \n",
      "A value is trying to be set on a copy of a slice from a DataFrame.\n",
      "Try using .loc[row_indexer,col_indexer] = value instead\n",
      "\n",
      "See the caveats in the documentation: http://pandas.pydata.org/pandas-docs/stable/user_guide/indexing.html#returning-a-view-versus-a-copy\n",
      "  # This is added back by InteractiveShellApp.init_path()\n",
      "/Applications/anaconda3/envs/learn-env/lib/python3.6/site-packages/ipykernel_launcher.py:12: SettingWithCopyWarning: \n",
      "A value is trying to be set on a copy of a slice from a DataFrame.\n",
      "Try using .loc[row_indexer,col_indexer] = value instead\n",
      "\n",
      "See the caveats in the documentation: http://pandas.pydata.org/pandas-docs/stable/user_guide/indexing.html#returning-a-view-versus-a-copy\n",
      "  if sys.path[0] == '':\n",
      "/Applications/anaconda3/envs/learn-env/lib/python3.6/site-packages/ipykernel_launcher.py:13: SettingWithCopyWarning: \n",
      "A value is trying to be set on a copy of a slice from a DataFrame.\n",
      "Try using .loc[row_indexer,col_indexer] = value instead\n",
      "\n",
      "See the caveats in the documentation: http://pandas.pydata.org/pandas-docs/stable/user_guide/indexing.html#returning-a-view-versus-a-copy\n",
      "  del sys.path[0]\n"
     ]
    }
   ],
   "source": [
    "combo_mod['Evap_se'] = combo_mod['Evap_tavg_']/combo_mod['Evap_tavg_std_']\n",
    "combo_mod['Lwnet_se'] = combo_mod['Lwnet_tavg']/combo_mod['Lwnet_tavg_std']\n",
    "combo_mod['Qair_se'] = combo_mod['Qair_f_tavg']/combo_mod['Qair_f_tavg_std']\n",
    "combo_mod['Qh_se'] = combo_mod['Qh_tavg']/combo_mod['Qh_tavg_std']\n",
    "combo_mod['Qs_se'] = combo_mod['Qs_tavg']/combo_mod['Qs_tavg_std']\n",
    "combo_mod['Rainf_se'] = combo_mod['Rainf_f_tavg']/combo_mod['Rainf_f_tavg_std']\n",
    "combo_mod['SoilMois_se'] = combo_mod['SoilMoi00_10cm_tavg']/combo_mod['SoilMoi00_10cm_tavg_std']\n",
    "combo_mod['Swnet_se'] = combo_mod['Swnet_tavg']/combo_mod['Swnet_tavg_std']\n",
    "combo_mod['Tair_se'] = combo_mod['Tair_f_tavg']/combo_mod['Tair_f_tavg_std']\n",
    "combo_mod['Wind_se'] = combo_mod['Wind_f_tavg']/combo_mod['Wind_f_tavg_std']\n",
    "combo_mod['Ozone_se'] = combo_mod['ozone_mean']/combo_mod['ozone_std']\n",
    "combo_mod['npp_se'] = combo_mod['npp_mean']/combo_mod['npp_std']\n",
    "combo_mod['nl_se'] = combo_mod['nl_mean']/combo_mod['nl_std']"
   ]
  },
  {
   "cell_type": "code",
   "execution_count": 30,
   "metadata": {
    "collapsed": true
   },
   "outputs": [],
   "source": [
    "X_se = combo_mod[['Evap_se','Lwnet_se',  'Qair_se',\n",
    "        'Qh_se', 'Qs_se',   'Rainf_se', \n",
    "       'SoilMois_se', 'Swnet_se', \n",
    "       'Tair_se', 'Wind_se', 'Ozone_se', 'npp_se', 'nl_se']]\n",
    "y = combo_mod['CS_y']\n"
   ]
  },
  {
   "cell_type": "code",
   "execution_count": 31,
   "metadata": {
    "collapsed": true
   },
   "outputs": [],
   "source": [
    "X_se = X_se.apply(lambda x: x.fillna(x.mean()),axis=0)"
   ]
  },
  {
   "cell_type": "code",
   "execution_count": 32,
   "metadata": {
    "collapsed": true
   },
   "outputs": [],
   "source": [
    "X_train, X_test, y_train, y_test = train_test_split(X_se, y, test_size=0.25, random_state=12345)"
   ]
  },
  {
   "cell_type": "code",
   "execution_count": 104,
   "metadata": {
    "scrolled": true
   },
   "outputs": [
    {
     "name": "stdout",
     "output_type": "stream",
     "text": [
      "{'classifier__criterion': 'gini', 'classifier__max_depth': 12, 'classifier__min_samples_leaf': 2, 'classifier__min_samples_split': 2, 'classifier__n_estimators': 20}\n"
     ]
    }
   ],
   "source": [
    "pipeline_rf_gr = Pipeline([('classifier', RandomForestClassifier(random_state = 10))])\n",
    "\n",
    "rf_params = {'classifier__n_estimators':[20, 50, 100, 200],\n",
    "        'classifier__criterion':['gini', 'entropy'],\n",
    "             'classifier__max_depth':[3, 5, 8, 10, 12],\n",
    "             'classifier__min_samples_split':[2, 5, 8,10],\n",
    "             'classifier__min_samples_leaf':[2, 5, 8]}\n",
    "grid_rf = GridSearchCV(pipeline_rf_gr, rf_params, cv=5)\n",
    "\n",
    "grid_rf.fit(X_train, y_train)\n",
    "\n",
    "# Mirror Mirror from GridSearch! Tell me what's the best parameters\n",
    "print(grid_rf.best_params_)"
   ]
  },
  {
   "cell_type": "code",
   "execution_count": 170,
   "metadata": {
    "collapsed": true
   },
   "outputs": [],
   "source": [
    "clf=RandomForestClassifier(n_estimators=200, criterion = 'gini', max_depth=10,\n",
    "                        min_samples_leaf = 2, min_samples_split = 2,\n",
    "                          random_state=10)\n",
    "clf.fit(X_train,y_train)\n",
    "y_pred_train = clf.predict(X_train)\n",
    "y_pred=clf.predict(X_test)"
   ]
  },
  {
   "cell_type": "code",
   "execution_count": 171,
   "metadata": {},
   "outputs": [
    {
     "name": "stdout",
     "output_type": "stream",
     "text": [
      "Accuracy_test: 62.576%  Accuracy_train: 82.573% \n"
     ]
    }
   ],
   "source": [
    "print(\"Accuracy_test: %.3f%% \" % (accuracy_score(y_test, y_pred)*100), \n",
    "     \"Accuracy_train: %.3f%% \" % (accuracy_score(y_train, y_pred_train)*100))"
   ]
  },
  {
   "cell_type": "code",
   "execution_count": 172,
   "metadata": {},
   "outputs": [
    {
     "data": {
      "text/plain": [
       "(array([0.5, 1.5, 2.5, 3.5, 4.5]),\n",
       " [Text(0, 0.5, '0'),\n",
       "  Text(0, 1.5, '1'),\n",
       "  Text(0, 2.5, '2'),\n",
       "  Text(0, 3.5, '3'),\n",
       "  Text(0, 4.5, '4')])"
      ]
     },
     "execution_count": 172,
     "metadata": {},
     "output_type": "execute_result"
    },
    {
     "data": {
      "image/png": "[encoded data removed]",
      "text/plain": [
       "<Figure size 432x288 with 2 Axes>"
      ]
     },
     "metadata": {
      "needs_background": "light"
     },
     "output_type": "display_data"
    }
   ],
   "source": [
    "mat_r = confusion_matrix(y_test, y_pred)\n",
    "sns.heatmap(mat_r.T, annot=True, fmt='g')\n",
    "pl.xlabel('true_label')\n",
    "pl.yticks(rotation = 45)"
   ]
  },
  {
   "cell_type": "code",
   "execution_count": 173,
   "metadata": {},
   "outputs": [
    {
     "name": "stdout",
     "output_type": "stream",
     "text": [
      "              precision    recall  f1-score   support\n",
      "\n",
      "         1.0       0.69      0.89      0.78       763\n",
      "         2.0       0.50      0.29      0.37       380\n",
      "         3.0       0.48      0.49      0.49       265\n",
      "         4.0       1.00      0.10      0.17        73\n",
      "         5.0       0.00      0.00      0.00         2\n",
      "\n",
      "    accuracy                           0.63      1483\n",
      "   macro avg       0.53      0.35      0.36      1483\n",
      "weighted avg       0.62      0.63      0.59      1483\n",
      "\n"
     ]
    },
    {
     "name": "stderr",
     "output_type": "stream",
     "text": [
      "/Users/lavz/.local/lib/python3.8/site-packages/sklearn/metrics/_classification.py:1245: UndefinedMetricWarning: Precision and F-score are ill-defined and being set to 0.0 in labels with no predicted samples. Use `zero_division` parameter to control this behavior.\n",
      "  _warn_prf(average, modifier, msg_start, len(result))\n",
      "/Users/lavz/.local/lib/python3.8/site-packages/sklearn/metrics/_classification.py:1245: UndefinedMetricWarning: Precision and F-score are ill-defined and being set to 0.0 in labels with no predicted samples. Use `zero_division` parameter to control this behavior.\n",
      "  _warn_prf(average, modifier, msg_start, len(result))\n",
      "/Users/lavz/.local/lib/python3.8/site-packages/sklearn/metrics/_classification.py:1245: UndefinedMetricWarning: Precision and F-score are ill-defined and being set to 0.0 in labels with no predicted samples. Use `zero_division` parameter to control this behavior.\n",
      "  _warn_prf(average, modifier, msg_start, len(result))\n"
     ]
    }
   ],
   "source": [
    "test_rp = classification_report(y_test, y_pred)\n",
    "print(test_rp)"
   ]
  },
  {
   "cell_type": "code",
   "execution_count": 34,
   "metadata": {},
   "outputs": [
    {
     "name": "stdout",
     "output_type": "stream",
     "text": [
      "Accuracy_test: 62.576%  Accuracy_train: 73.623%  Overfitting: -11.047% \n"
     ]
    }
   ],
   "source": [
    "model = XGBClassifier(n_estimators = 50, objective='softmax', subsample = 0.55,\n",
    "            max_depth = 5, seed = 10)\n",
    "model.fit(X_train, y_train)\n",
    "# make predictions for test data\n",
    "y_pred_train = model.predict(X_train)\n",
    "y_pred= model.predict(X_test)\n",
    "print(\"Accuracy_test: %.3f%% \" % (accuracy_score(y_test, y_pred)*100), \n",
    "     \"Accuracy_train: %.3f%% \" % (accuracy_score(y_train, y_pred_train)*100),\n",
    "'Overfitting: %.3f%% ' % ((accuracy_score(y_test, y_pred)*100)-(accuracy_score(y_train, y_pred_train)*100)))"
   ]
  },
  {
   "cell_type": "markdown",
   "metadata": {},
   "source": [
    "## Tuning - combing certain groups\n",
    "There are way less counts of category 5 and 4, so let's combine it with category 3."
   ]
  },
  {
   "cell_type": "code",
   "execution_count": 35,
   "metadata": {},
   "outputs": [
    {
     "name": "stderr",
     "output_type": "stream",
     "text": [
      "/Applications/anaconda3/envs/learn-env/lib/python3.6/site-packages/ipykernel_launcher.py:1: SettingWithCopyWarning: \n",
      "A value is trying to be set on a copy of a slice from a DataFrame.\n",
      "Try using .loc[row_indexer,col_indexer] = value instead\n",
      "\n",
      "See the caveats in the documentation: http://pandas.pydata.org/pandas-docs/stable/user_guide/indexing.html#returning-a-view-versus-a-copy\n",
      "  \"\"\"Entry point for launching an IPython kernel.\n"
     ]
    },
    {
     "data": {
      "text/plain": [
       "1.0    3068\n",
       "2.0    1498\n",
       "3.0    1364\n",
       "Name: CS_3, dtype: int64"
      ]
     },
     "execution_count": 35,
     "metadata": {},
     "output_type": "execute_result"
    }
   ],
   "source": [
    "combo_mod['CS_4'] = combo_mod['CS_y'].replace(5, 4)\n",
    "combo_mod['CS_3'] = combo_mod['CS_4'].replace(4, 3)\n",
    "combo_mod['CS_3'].value_counts()"
   ]
  },
  {
   "cell_type": "code",
   "execution_count": 38,
   "metadata": {
    "collapsed": true
   },
   "outputs": [],
   "source": [
    "X_3 = combo_mod[['Evap_tavg_',\n",
    "       'Lwnet_tavg',  'Qair_f_tavg',\n",
    "        'Qh_tavg', \n",
    "       'Qs_tavg',   'Rainf_f_tavg', \n",
    "       'SoilMoi00_10cm_tavg', 'Swnet_tavg', \n",
    "       'Tair_f_tavg', 'Wind_f_tavg', 'ozone_mean',\n",
    "       'npp_mean', 'nl_mean']]\n",
    "y = combo_mod['CS_3']\n",
    "X_train, X_test, y_train, y_test = train_test_split(X_3, y, test_size=0.25, random_state=12345)"
   ]
  },
  {
   "cell_type": "code",
   "execution_count": 176,
   "metadata": {},
   "outputs": [
    {
     "name": "stdout",
     "output_type": "stream",
     "text": [
      "{'classifier__criterion': 'entropy', 'classifier__max_depth': 12, 'classifier__min_samples_leaf': 2, 'classifier__min_samples_split': 5, 'classifier__n_estimators': 100}\n"
     ]
    }
   ],
   "source": [
    "pipeline_rf_gr = Pipeline([('classifier', RandomForestClassifier(random_state = 10))])\n",
    "\n",
    "rf_params = {'classifier__n_estimators':[20, 50, 100, 200],\n",
    "        'classifier__criterion':['gini', 'entropy'],\n",
    "             'classifier__max_depth':[3, 5, 8, 10, 12],\n",
    "             'classifier__min_samples_split':[2, 5, 8,10],\n",
    "             'classifier__min_samples_leaf':[2, 5, 8]}\n",
    "grid_rf = GridSearchCV(pipeline_rf_gr, rf_params, cv=5)\n",
    "\n",
    "grid_rf.fit(X_train, y_train)\n",
    "\n",
    "# Mirror Mirror from GridSearch! Tell me what's the best parameters\n",
    "print(grid_rf.best_params_)"
   ]
  },
  {
   "cell_type": "code",
   "execution_count": 14,
   "metadata": {
    "collapsed": true
   },
   "outputs": [],
   "source": [
    "clf=RandomForestClassifier(n_estimators=50, criterion = 'entropy', max_depth=8,\n",
    "                        min_samples_leaf = 2, min_samples_split = 5,\n",
    "                          random_state=10)\n",
    "clf.fit(X_train,y_train)\n",
    "y_pred_train = clf.predict(X_train)\n",
    "y_pred=clf.predict(X_test)"
   ]
  },
  {
   "cell_type": "code",
   "execution_count": 15,
   "metadata": {},
   "outputs": [
    {
     "name": "stdout",
     "output_type": "stream",
     "text": [
      "Accuracy_test: 64.262%  Accuracy_train: 75.624% \n"
     ]
    }
   ],
   "source": [
    "print(\"Accuracy_test: %.3f%% \" % (accuracy_score(y_test, y_pred)*100), \n",
    "     \"Accuracy_train: %.3f%% \" % (accuracy_score(y_train, y_pred_train)*100))"
   ]
  },
  {
   "cell_type": "code",
   "execution_count": 16,
   "metadata": {},
   "outputs": [
    {
     "name": "stdout",
     "output_type": "stream",
     "text": [
      "              precision    recall  f1-score   support\n",
      "\n",
      "         1.0       0.68      0.90      0.77       763\n",
      "         2.0       0.49      0.21      0.29       380\n",
      "         3.0       0.60      0.56      0.58       340\n",
      "\n",
      "    accuracy                           0.64      1483\n",
      "   macro avg       0.59      0.55      0.55      1483\n",
      "weighted avg       0.61      0.64      0.61      1483\n",
      "\n"
     ]
    }
   ],
   "source": [
    "test_rp = classification_report(y_test, y_pred)\n",
    "print(test_rp)"
   ]
  },
  {
   "cell_type": "markdown",
   "metadata": {},
   "source": [
    "## XGBoost"
   ]
  },
  {
   "cell_type": "code",
   "execution_count": 42,
   "metadata": {},
   "outputs": [
    {
     "name": "stdout",
     "output_type": "stream",
     "text": [
      "Accuracy_test: 67.498%  Accuracy_train: 73.645%  Overfitting: -6.147% \n"
     ]
    }
   ],
   "source": [
    "model = XGBClassifier(n_estimators = 70, objective='softmax', subsample = 0.55,\n",
    "            max_depth = 4, seed = 10)\n",
    "model.fit(X_train, y_train)\n",
    "# make predictions for test data\n",
    "y_pred_train = model.predict(X_train)\n",
    "y_pred= model.predict(X_test)\n",
    "print(\"Accuracy_test: %.3f%% \" % (accuracy_score(y_test, y_pred)*100), \n",
    "     \"Accuracy_train: %.3f%% \" % (accuracy_score(y_train, y_pred_train)*100),\n",
    "'Overfitting: %.3f%% ' % ((accuracy_score(y_test, y_pred)*100)-(accuracy_score(y_train, y_pred_train)*100)))"
   ]
  },
  {
   "cell_type": "markdown",
   "metadata": {},
   "source": [
    "## KNN"
   ]
  },
  {
   "cell_type": "code",
   "execution_count": 322,
   "metadata": {},
   "outputs": [
    {
     "name": "stdout",
     "output_type": "stream",
     "text": [
      "              precision    recall  f1-score   support\n",
      "\n",
      "         1.0       0.65      0.85      0.73       763\n",
      "         2.0       0.41      0.23      0.30       380\n",
      "         3.0       0.51      0.40      0.45       340\n",
      "\n",
      "    accuracy                           0.59      1483\n",
      "   macro avg       0.52      0.49      0.49      1483\n",
      "weighted avg       0.55      0.59      0.56      1483\n",
      "\n"
     ]
    }
   ],
   "source": [
    "pipe_knn = Pipeline([('classifier',KNeighborsClassifier())])\n",
    "knn_params = {'classifier__n_neighbors': [3,4,5,6,7,8,9,10,11,12,13, 14]}\n",
    "grid_knn = GridSearchCV(pipe_knn, knn_params)\n",
    "grid_knn.fit(X_train, y_train)\n",
    "test_p_knn = grid_knn.predict(X_test)\n",
    "test_rp_knn = classification_report(y_test, test_p_knn)\n",
    "print(test_rp_knn)"
   ]
  },
  {
   "cell_type": "code",
   "execution_count": 323,
   "metadata": {},
   "outputs": [
    {
     "name": "stdout",
     "output_type": "stream",
     "text": [
      "0.627614121879919 0.5866486850977748 {'classifier__n_neighbors': 13}\n"
     ]
    }
   ],
   "source": [
    "train_p_knn = grid_knn.predict(X_train)\n",
    "acc_knn_train = accuracy_score(y_train, train_p_knn)\n",
    "acc_knn_test = accuracy_score(y_test, test_p_knn)\n",
    "print(acc_knn_train, acc_knn_test, grid_knn.best_params_)"
   ]
  },
  {
   "cell_type": "markdown",
   "metadata": {},
   "source": [
    "## TF-Keras"
   ]
  },
  {
   "cell_type": "code",
   "execution_count": 315,
   "metadata": {
    "collapsed": true
   },
   "outputs": [],
   "source": [
    "model = tf.keras.Sequential([\n",
    "    tf.keras.layers.Flatten(input_shape=[13]),\n",
    "    tf.keras.layers.Dense(128, activation='sigmoid'),\n",
    "    tf.keras.layers.Dense(64, activation='sigmoid'),\n",
    "    tf.keras.layers.Dense(64, activation='sigmoid'),\n",
    "    \n",
    "])"
   ]
  },
  {
   "cell_type": "code",
   "execution_count": 319,
   "metadata": {
    "collapsed": true
   },
   "outputs": [],
   "source": [
    "model.compile(optimizer='Adamax',\n",
    "              loss=tf.keras.losses.SparseCategoricalCrossentropy(from_logits=True),\n",
    "              metrics=['accuracy'])\n"
   ]
  },
  {
   "cell_type": "code",
   "execution_count": 320,
   "metadata": {},
   "outputs": [
    {
     "name": "stdout",
     "output_type": "stream",
     "text": [
      "Train on 4447 samples\n",
      "Epoch 1/25\n",
      "4447/4447 [==============================] - 0s 64us/sample - loss: 0.8876 - acc: 0.5997\n",
      "Epoch 2/25\n",
      "4447/4447 [==============================] - 0s 31us/sample - loss: 0.8837 - acc: 0.5928\n",
      "Epoch 3/25\n",
      "4447/4447 [==============================] - 0s 30us/sample - loss: 0.8826 - acc: 0.5939\n",
      "Epoch 4/25\n",
      "4447/4447 [==============================] - 0s 30us/sample - loss: 0.8815 - acc: 0.5982\n",
      "Epoch 5/25\n",
      "4447/4447 [==============================] - 0s 35us/sample - loss: 0.8821 - acc: 0.5984\n",
      "Epoch 6/25\n",
      "4447/4447 [==============================] - 0s 32us/sample - loss: 0.8818 - acc: 0.6000\n",
      "Epoch 7/25\n",
      "4447/4447 [==============================] - 0s 29us/sample - loss: 0.8805 - acc: 0.6013\n",
      "Epoch 8/25\n",
      "4447/4447 [==============================] - 0s 33us/sample - loss: 0.8798 - acc: 0.5959\n",
      "Epoch 9/25\n",
      "4447/4447 [==============================] - 0s 30us/sample - loss: 0.8797 - acc: 0.5973\n",
      "Epoch 10/25\n",
      "4447/4447 [==============================] - 0s 37us/sample - loss: 0.8808 - acc: 0.6000\n",
      "Epoch 11/25\n",
      "4447/4447 [==============================] - 0s 44us/sample - loss: 0.8794 - acc: 0.5986\n",
      "Epoch 12/25\n",
      "4447/4447 [==============================] - 0s 39us/sample - loss: 0.8797 - acc: 0.6011\n",
      "Epoch 13/25\n",
      "4447/4447 [==============================] - 0s 34us/sample - loss: 0.8780 - acc: 0.6024\n",
      "Epoch 14/25\n",
      "4447/4447 [==============================] - 0s 84us/sample - loss: 0.8793 - acc: 0.60130s - loss: 0.8777 - acc: 0.60\n",
      "Epoch 15/25\n",
      "4447/4447 [==============================] - 0s 38us/sample - loss: 0.8783 - acc: 0.6011\n",
      "Epoch 16/25\n",
      "4447/4447 [==============================] - 0s 39us/sample - loss: 0.8778 - acc: 0.6013\n",
      "Epoch 17/25\n",
      "4447/4447 [==============================] - 0s 37us/sample - loss: 0.8778 - acc: 0.5970\n",
      "Epoch 18/25\n",
      "4447/4447 [==============================] - 0s 35us/sample - loss: 0.8775 - acc: 0.6011\n",
      "Epoch 19/25\n",
      "4447/4447 [==============================] - 0s 36us/sample - loss: 0.8766 - acc: 0.5995\n",
      "Epoch 20/25\n",
      "4447/4447 [==============================] - 0s 38us/sample - loss: 0.8760 - acc: 0.5997\n",
      "Epoch 21/25\n",
      "4447/4447 [==============================] - 0s 34us/sample - loss: 0.8765 - acc: 0.6018\n",
      "Epoch 22/25\n",
      "4447/4447 [==============================] - 0s 69us/sample - loss: 0.8776 - acc: 0.60150s - loss: 0.8730 - acc: 0.\n",
      "Epoch 23/25\n",
      "4447/4447 [==============================] - 0s 81us/sample - loss: 0.8752 - acc: 0.5997\n",
      "Epoch 24/25\n",
      "4447/4447 [==============================] - 0s 41us/sample - loss: 0.8780 - acc: 0.6004\n",
      "Epoch 25/25\n",
      "4447/4447 [==============================] - 0s 46us/sample - loss: 0.8751 - acc: 0.6029\n"
     ]
    },
    {
     "data": {
      "text/plain": [
       "<tensorflow.python.keras.callbacks.History at 0x7fcafcc83a00>"
      ]
     },
     "execution_count": 320,
     "metadata": {},
     "output_type": "execute_result"
    }
   ],
   "source": [
    "model.fit(X_train, y_train, batch_size = 100, epochs=25)"
   ]
  },
  {
   "cell_type": "code",
   "execution_count": 321,
   "metadata": {},
   "outputs": [
    {
     "name": "stdout",
     "output_type": "stream",
     "text": [
      "\n",
      "Test accuracy: 0.5967633\n"
     ]
    }
   ],
   "source": [
    "test_loss, test_acc = model.evaluate(X_test,  y_test, verbose=3)\n",
    "\n",
    "print('\\nTest accuracy:', test_acc)"
   ]
  },
  {
   "cell_type": "markdown",
   "metadata": {},
   "source": [
    "## Tuning - Combining into 2 categories, 2 and 3"
   ]
  },
  {
   "cell_type": "code",
   "execution_count": 43,
   "metadata": {},
   "outputs": [
    {
     "data": {
      "text/plain": [
       "2.0    4566\n",
       "3.0    1364\n",
       "Name: CS_2, dtype: int64"
      ]
     },
     "execution_count": 43,
     "metadata": {},
     "output_type": "execute_result"
    }
   ],
   "source": [
    "combo_mod['CS_2'] = combo_mod['CS_3'].replace(1, 2)\n",
    "combo_mod['CS_2'].value_counts()"
   ]
  },
  {
   "cell_type": "code",
   "execution_count": 44,
   "metadata": {
    "collapsed": true
   },
   "outputs": [],
   "source": [
    "X_3 = combo_mod[['Evap_tavg_',\n",
    "       'Lwnet_tavg',  'Qair_f_tavg',\n",
    "        'Qh_tavg', \n",
    "       'Qs_tavg',   'Rainf_f_tavg', \n",
    "       'SoilMoi00_10cm_tavg', 'Swnet_tavg', \n",
    "       'Tair_f_tavg', 'Wind_f_tavg', 'ozone_mean',\n",
    "       'npp_mean', 'nl_mean']]\n",
    "y = combo_mod['CS_2']\n",
    "X_train, X_test, y_train, y_test = train_test_split(X_3, y, test_size=0.25, random_state=12345)"
   ]
  },
  {
   "cell_type": "code",
   "execution_count": 17,
   "metadata": {},
   "outputs": [
    {
     "name": "stdout",
     "output_type": "stream",
     "text": [
      "{'classifier__criterion': 'gini', 'classifier__max_depth': 12, 'classifier__min_samples_leaf': 2, 'classifier__min_samples_split': 2, 'classifier__n_estimators': 200}\n"
     ]
    }
   ],
   "source": [
    "pipeline_rf_gr = Pipeline([('classifier', RandomForestClassifier(random_state = 10))])\n",
    "\n",
    "rf_params = {'classifier__n_estimators':[20, 50, 100, 200],\n",
    "        'classifier__criterion':['gini', 'entropy'],\n",
    "             'classifier__max_depth':[3, 5, 8, 10, 12],\n",
    "             'classifier__min_samples_split':[2, 5, 8,10],\n",
    "             'classifier__min_samples_leaf':[2, 5, 8]}\n",
    "grid_rf = GridSearchCV(pipeline_rf_gr, rf_params, cv=5)\n",
    "\n",
    "grid_rf.fit(X_train, y_train)\n",
    "\n",
    "# Mirror Mirror from GridSearch! Tell me what's the best parameters\n",
    "print(grid_rf.best_params_)"
   ]
  },
  {
   "cell_type": "code",
   "execution_count": 39,
   "metadata": {},
   "outputs": [
    {
     "name": "stdout",
     "output_type": "stream",
     "text": [
      "Accuracy_test: 82.333%  Accuracy_train: 85.046%  Overfitting: -2.713% \n"
     ]
    }
   ],
   "source": [
    "clf=RandomForestClassifier(n_estimators= 75, criterion = 'gini', max_depth=8,\n",
    "                        min_samples_leaf = 3, min_samples_split = 2,\n",
    "                           \n",
    "                          random_state=10)\n",
    "clf.fit(X_train,y_train)\n",
    "y_pred_train = clf.predict(X_train)\n",
    "y_pred=clf.predict(X_test)\n",
    "print(\"Accuracy_test: %.3f%% \" % (accuracy_score(y_test, y_pred)*100), \n",
    "     \"Accuracy_train: %.3f%% \" % (accuracy_score(y_train, y_pred_train)*100), \n",
    "\"Overfitting: %.3f%% \" % ((accuracy_score(y_test, y_pred)*100)-(accuracy_score(y_train, y_pred_train)*100)) )"
   ]
  },
  {
   "cell_type": "markdown",
   "metadata": {},
   "source": [
    "## Feature Importance"
   ]
  },
  {
   "cell_type": "code",
   "execution_count": 42,
   "metadata": {},
   "outputs": [
    {
     "data": {
      "text/html": [
       "<div>\n",
       "<style scoped>\n",
       "    .dataframe tbody tr th:only-of-type {\n",
       "        vertical-align: middle;\n",
       "    }\n",
       "\n",
       "    .dataframe tbody tr th {\n",
       "        vertical-align: top;\n",
       "    }\n",
       "\n",
       "    .dataframe thead th {\n",
       "        text-align: right;\n",
       "    }\n",
       "</style>\n",
       "<table border=\"1\" class=\"dataframe\">\n",
       "  <thead>\n",
       "    <tr style=\"text-align: right;\">\n",
       "      <th></th>\n",
       "      <th>Keys</th>\n",
       "      <th>Value</th>\n",
       "    </tr>\n",
       "  </thead>\n",
       "  <tbody>\n",
       "    <tr>\n",
       "      <th>11</th>\n",
       "      <td>npp_mean</td>\n",
       "      <td>0.148846</td>\n",
       "    </tr>\n",
       "    <tr>\n",
       "      <th>6</th>\n",
       "      <td>SoilMoi00_10cm_tavg</td>\n",
       "      <td>0.143346</td>\n",
       "    </tr>\n",
       "    <tr>\n",
       "      <th>3</th>\n",
       "      <td>Qh_tavg</td>\n",
       "      <td>0.112347</td>\n",
       "    </tr>\n",
       "    <tr>\n",
       "      <th>1</th>\n",
       "      <td>Lwnet_tavg</td>\n",
       "      <td>0.105717</td>\n",
       "    </tr>\n",
       "    <tr>\n",
       "      <th>9</th>\n",
       "      <td>Wind_f_tavg</td>\n",
       "      <td>0.099975</td>\n",
       "    </tr>\n",
       "    <tr>\n",
       "      <th>2</th>\n",
       "      <td>Qair_f_tavg</td>\n",
       "      <td>0.082353</td>\n",
       "    </tr>\n",
       "    <tr>\n",
       "      <th>5</th>\n",
       "      <td>Rainf_f_tavg</td>\n",
       "      <td>0.073568</td>\n",
       "    </tr>\n",
       "    <tr>\n",
       "      <th>8</th>\n",
       "      <td>Tair_f_tavg</td>\n",
       "      <td>0.068605</td>\n",
       "    </tr>\n",
       "    <tr>\n",
       "      <th>7</th>\n",
       "      <td>Swnet_tavg</td>\n",
       "      <td>0.065225</td>\n",
       "    </tr>\n",
       "    <tr>\n",
       "      <th>10</th>\n",
       "      <td>ozone_mean</td>\n",
       "      <td>0.040291</td>\n",
       "    </tr>\n",
       "    <tr>\n",
       "      <th>12</th>\n",
       "      <td>nl_mean</td>\n",
       "      <td>0.031096</td>\n",
       "    </tr>\n",
       "    <tr>\n",
       "      <th>4</th>\n",
       "      <td>Qs_tavg</td>\n",
       "      <td>0.026923</td>\n",
       "    </tr>\n",
       "    <tr>\n",
       "      <th>0</th>\n",
       "      <td>Evap_tavg_</td>\n",
       "      <td>0.001709</td>\n",
       "    </tr>\n",
       "  </tbody>\n",
       "</table>\n",
       "</div>"
      ],
      "text/plain": [
       "                   Keys     Value\n",
       "11             npp_mean  0.148846\n",
       "6   SoilMoi00_10cm_tavg  0.143346\n",
       "3               Qh_tavg  0.112347\n",
       "1            Lwnet_tavg  0.105717\n",
       "9           Wind_f_tavg  0.099975\n",
       "2           Qair_f_tavg  0.082353\n",
       "5          Rainf_f_tavg  0.073568\n",
       "8           Tair_f_tavg  0.068605\n",
       "7            Swnet_tavg  0.065225\n",
       "10           ozone_mean  0.040291\n",
       "12              nl_mean  0.031096\n",
       "4               Qs_tavg  0.026923\n",
       "0            Evap_tavg_  0.001709"
      ]
     },
     "execution_count": 42,
     "metadata": {},
     "output_type": "execute_result"
    }
   ],
   "source": [
    "df_rf_new = pd.DataFrame({'Keys':X_train.columns,\n",
    "'Value':clf.feature_importances_}).sort_values(by='Value', ascending=False)\n",
    "df_rf_new.head(20)\n"
   ]
  },
  {
   "cell_type": "markdown",
   "metadata": {},
   "source": [
    "## XGBoost"
   ]
  },
  {
   "cell_type": "code",
   "execution_count": 69,
   "metadata": {},
   "outputs": [
    {
     "name": "stdout",
     "output_type": "stream",
     "text": [
      "Accuracy_test: 83.682%  Accuracy_train: 83.067%  Overfitting: 0.614% \n"
     ]
    }
   ],
   "source": [
    "model = XGBClassifier(n_estimators = 70, objective='binary:logistic', subsample = 0.55,\n",
    "            max_depth = 3, seed = 10)\n",
    "model.fit(X_train, y_train)\n",
    "# make predictions for test data\n",
    "y_pred_train = model.predict(X_train)\n",
    "y_pred= model.predict(X_test)\n",
    "print(\"Accuracy_test: %.3f%% \" % (accuracy_score(y_test, y_pred)*100), \n",
    "     \"Accuracy_train: %.3f%% \" % (accuracy_score(y_train, y_pred_train)*100),\n",
    "'Overfitting: %.3f%% ' % ((accuracy_score(y_test, y_pred)*100)-(accuracy_score(y_train, y_pred_train)*100)))"
   ]
  },
  {
   "cell_type": "code",
   "execution_count": 70,
   "metadata": {},
   "outputs": [
    {
     "data": {
      "text/plain": [
       "<matplotlib.axes._subplots.AxesSubplot at 0x124033f28>"
      ]
     },
     "execution_count": 70,
     "metadata": {},
     "output_type": "execute_result"
    },
    {
     "data": {
      "image/png": "[encoded data removed]",
      "text/plain": [
       "<Figure size 432x288 with 1 Axes>"
      ]
     },
     "metadata": {
      "needs_background": "light"
     },
     "output_type": "display_data"
    }
   ],
   "source": [
    "xgboost.plot_importance(model, max_num_features=18)"
   ]
  },
  {
   "cell_type": "markdown",
   "metadata": {},
   "source": [
    "## Permutation Importance"
   ]
  },
  {
   "cell_type": "code",
   "execution_count": 74,
   "metadata": {},
   "outputs": [
    {
     "data": {
      "image/png": "[encoded data removed]",
      "text/plain": [
       "<Figure size 1080x720 with 1 Axes>"
      ]
     },
     "metadata": {
      "needs_background": "light"
     },
     "output_type": "display_data"
    }
   ],
   "source": [
    "result = permutation_importance(model, X_test, y_test, n_repeats=10,\n",
    "                                random_state=42, n_jobs=2)\n",
    "sorted_idx = result.importances_mean.argsort()\n",
    "\n",
    "fig, ax = plt.subplots(figsize=(15, 10))\n",
    "ax.boxplot(result.importances[sorted_idx].T,\n",
    "           vert=False, labels=X_test.columns[sorted_idx])\n",
    "ax.set_title(\"Permutation Importances - test\")\n",
    "fig.tight_layout()"
   ]
  },
  {
   "cell_type": "code",
   "execution_count": null,
   "metadata": {
    "collapsed": true
   },
   "outputs": [],
   "source": []
  }
 ],
 "metadata": {
  "kernelspec": {
   "display_name": "learn-env",
   "language": "python",
   "name": "learn-env"
  },
  "language_info": {
   "codemirror_mode": {
    "name": "ipython",
    "version": 3
   },
   "file_extension": ".py",
   "mimetype": "text/x-python",
   "name": "python",
   "nbconvert_exporter": "python",
   "pygments_lexer": "ipython3",
   "version": "3.6.9"
  }
 },
 "nbformat": 4,
 "nbformat_minor": 4
}
